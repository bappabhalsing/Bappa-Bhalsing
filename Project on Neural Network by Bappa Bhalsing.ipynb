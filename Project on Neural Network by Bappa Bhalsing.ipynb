{
 "cells": [
  {
   "cell_type": "markdown",
   "metadata": {},
   "source": [
    "# Project 1:  Neural Network\n",
    "## By Bappa Bhalsing"
   ]
  },
  {
   "cell_type": "markdown",
   "metadata": {},
   "source": [
    "### Load Basic Librabries"
   ]
  },
  {
   "cell_type": "code",
   "execution_count": 1,
   "metadata": {},
   "outputs": [],
   "source": [
    "import pandas as pd\n",
    "import numpy as np\n",
    "import matplotlib.pyplot as plt\n",
    "%matplotlib inline\n",
    "import warnings"
   ]
  },
  {
   "cell_type": "code",
   "execution_count": 2,
   "metadata": {},
   "outputs": [],
   "source": [
    "import tensorflow as tf\n",
    "from sklearn import metrics\n",
    "from sklearn.metrics import classification_report, confusion_matrix"
   ]
  },
  {
   "cell_type": "code",
   "execution_count": 3,
   "metadata": {},
   "outputs": [
    {
     "name": "stderr",
     "output_type": "stream",
     "text": [
      "Using TensorFlow backend.\n"
     ]
    }
   ],
   "source": [
    "import keras"
   ]
  },
  {
   "cell_type": "code",
   "execution_count": 4,
   "metadata": {},
   "outputs": [
    {
     "data": {
      "text/plain": [
       "'2.0.0'"
      ]
     },
     "execution_count": 4,
     "metadata": {},
     "output_type": "execute_result"
    }
   ],
   "source": [
    "tf.__version__"
   ]
  },
  {
   "cell_type": "markdown",
   "metadata": {},
   "source": [
    "### Load Data Set"
   ]
  },
  {
   "cell_type": "code",
   "execution_count": 5,
   "metadata": {},
   "outputs": [],
   "source": [
    "# using reference coding to load the data\n",
    "import h5py"
   ]
  },
  {
   "cell_type": "code",
   "execution_count": 6,
   "metadata": {},
   "outputs": [],
   "source": [
    "h5f=h5py.File('SVHN_single_grey1.h5',mode='r')"
   ]
  },
  {
   "cell_type": "code",
   "execution_count": 7,
   "metadata": {},
   "outputs": [
    {
     "data": {
      "text/plain": [
       "<KeysViewHDF5 ['X_test', 'X_train', 'X_val', 'y_test', 'y_train', 'y_val']>"
      ]
     },
     "execution_count": 7,
     "metadata": {},
     "output_type": "execute_result"
    }
   ],
   "source": [
    "# Views available from member names( help taken from Github)\n",
    "h5f.keys()"
   ]
  },
  {
   "cell_type": "code",
   "execution_count": 8,
   "metadata": {},
   "outputs": [],
   "source": [
    "# Create the data set for local coding\n",
    "X_train=h5f['X_train'][:]\n",
    "y_train1=h5f['y_train'][:]\n",
    "X_test=h5f['X_test'][:]\n",
    "y_test1=h5f['y_test'][:]\n",
    "# create data set for later usage\n",
    "X_val=h5f['X_val'][:]\n",
    "y_val=h5f['y_val'][:]"
   ]
  },
  {
   "cell_type": "code",
   "execution_count": 9,
   "metadata": {},
   "outputs": [],
   "source": [
    "h5f.close()"
   ]
  },
  {
   "cell_type": "code",
   "execution_count": 10,
   "metadata": {},
   "outputs": [
    {
     "data": {
      "text/plain": [
       "(42000, 32, 32)"
      ]
     },
     "execution_count": 10,
     "metadata": {},
     "output_type": "execute_result"
    }
   ],
   "source": [
    "# Checking shape of subset of Data\n",
    "X_train.shape"
   ]
  },
  {
   "cell_type": "markdown",
   "metadata": {},
   "source": [
    "Training set have 42000 images of 32 x 32 ( 1024 pixel) i.e 70 % data in Training set."
   ]
  },
  {
   "cell_type": "code",
   "execution_count": 11,
   "metadata": {},
   "outputs": [
    {
     "data": {
      "text/plain": [
       "(42000,)"
      ]
     },
     "execution_count": 11,
     "metadata": {},
     "output_type": "execute_result"
    }
   ],
   "source": [
    "y_train1.shape"
   ]
  },
  {
   "cell_type": "code",
   "execution_count": 12,
   "metadata": {},
   "outputs": [
    {
     "data": {
      "text/plain": [
       "(18000, 32, 32)"
      ]
     },
     "execution_count": 12,
     "metadata": {},
     "output_type": "execute_result"
    }
   ],
   "source": [
    "X_test.shape"
   ]
  },
  {
   "cell_type": "markdown",
   "metadata": {},
   "source": [
    "Testing sets have 30% data"
   ]
  },
  {
   "cell_type": "code",
   "execution_count": 13,
   "metadata": {},
   "outputs": [
    {
     "data": {
      "text/plain": [
       "(18000,)"
      ]
     },
     "execution_count": 13,
     "metadata": {},
     "output_type": "execute_result"
    }
   ],
   "source": [
    "y_test1.shape"
   ]
  },
  {
   "cell_type": "code",
   "execution_count": 14,
   "metadata": {},
   "outputs": [
    {
     "data": {
      "text/plain": [
       "(60000, 32, 32)"
      ]
     },
     "execution_count": 14,
     "metadata": {},
     "output_type": "execute_result"
    }
   ],
   "source": [
    "X_val.shape"
   ]
  },
  {
   "cell_type": "code",
   "execution_count": 15,
   "metadata": {},
   "outputs": [
    {
     "data": {
      "text/plain": [
       "(60000,)"
      ]
     },
     "execution_count": 15,
     "metadata": {},
     "output_type": "execute_result"
    }
   ],
   "source": [
    "y_val.shape"
   ]
  },
  {
   "cell_type": "code",
   "execution_count": 16,
   "metadata": {},
   "outputs": [
    {
     "name": "stdout",
     "output_type": "stream",
     "text": [
      "Images in X_train: 42000\n",
      "Images in X_test: 18000\n",
      "Max value in X_train: 254.9745\n",
      "Min value in X_train: 0.0\n",
      "Max value in X_test: 254.9745\n",
      "Min value in X_test: 0.0\n"
     ]
    }
   ],
   "source": [
    "print(\"Images in X_train:\", X_train.shape[0])\n",
    "print(\"Images in X_test:\", X_test.shape[0])\n",
    "print(\"Max value in X_train:\", X_train.max())\n",
    "print(\"Min value in X_train:\", X_train.min())\n",
    "print(\"Max value in X_test:\", X_train.max())\n",
    "print(\"Min value in X_test:\", X_train.min())"
   ]
  },
  {
   "cell_type": "markdown",
   "metadata": {},
   "source": [
    "Max Value in data seen is 254.9745 not exactly equal to 255. This might be error in data but data normalisation required while implement NN."
   ]
  },
  {
   "cell_type": "markdown",
   "metadata": {},
   "source": [
    "### Basic Image Classification"
   ]
  },
  {
   "cell_type": "markdown",
   "metadata": {},
   "source": [
    "#### Data Visualisation"
   ]
  },
  {
   "cell_type": "code",
   "execution_count": 17,
   "metadata": {},
   "outputs": [
    {
     "name": "stdout",
     "output_type": "stream",
     "text": [
      "7,2,9,0,9,1,8,4,4,8,9,1,4,3,5,8,6,5,5,0,6,5,8,3,2,"
     ]
    },
    {
     "data": {
      "image/png": "[encoded data removed]",
      "text/plain": [
       "<Figure size 720x720 with 25 Axes>"
      ]
     },
     "metadata": {
      "needs_background": "light"
     },
     "output_type": "display_data"
    }
   ],
   "source": [
    "# Data visualisation \n",
    "fig=plt.figure(figsize=(10,10))\n",
    "col=5\n",
    "ro=5\n",
    "for i in range(1, col*ro+1):\n",
    "    image=X_test[i]\n",
    "    fig.add_subplot(ro,col,i)\n",
    "    plt.imshow(image,cmap='gray')\n",
    "    print(y_test1[i] ,end=',')\n",
    "plt.show()\n"
   ]
  },
  {
   "cell_type": "markdown",
   "metadata": {},
   "source": [
    "Checking 25 images from testing Sets with their labels"
   ]
  },
  {
   "cell_type": "code",
   "execution_count": 18,
   "metadata": {},
   "outputs": [
    {
     "data": {
      "image/png": "[encoded data removed]",
      "text/plain": [
       "<Figure size 432x288 with 1 Axes>"
      ]
     },
     "metadata": {
      "needs_background": "light"
     },
     "output_type": "display_data"
    },
    {
     "name": "stdout",
     "output_type": "stream",
     "text": [
      "2\n"
     ]
    }
   ],
   "source": [
    "# Show a random input with respect to output\n",
    "i = 9004\n",
    "plt.imshow(X_train[i,:], cmap = 'gray')\n",
    "plt.show()\n",
    "print(y_train1[i])"
   ]
  },
  {
   "cell_type": "markdown",
   "metadata": {},
   "source": [
    "Randomly checking input image with its label"
   ]
  },
  {
   "cell_type": "code",
   "execution_count": 19,
   "metadata": {},
   "outputs": [
    {
     "data": {
      "image/png": "[encoded data removed]",
      "text/plain": [
       "<Figure size 432x288 with 1 Axes>"
      ]
     },
     "metadata": {
      "needs_background": "light"
     },
     "output_type": "display_data"
    },
    {
     "name": "stdout",
     "output_type": "stream",
     "text": [
      "8\n"
     ]
    }
   ],
   "source": [
    "# Show a random input\n",
    "i = 41874\n",
    "plt.imshow(X_train[i,:], cmap = 'gray')\n",
    "plt.show()\n",
    "print(y_train1[i])"
   ]
  },
  {
   "cell_type": "code",
   "execution_count": 20,
   "metadata": {},
   "outputs": [
    {
     "data": {
      "image/png": "[encoded data removed]",
      "text/plain": [
       "<Figure size 1440x1440 with 10 Axes>"
      ]
     },
     "metadata": {
      "needs_background": "light"
     },
     "output_type": "display_data"
    },
    {
     "name": "stdout",
     "output_type": "stream",
     "text": [
      "Label of the image is [5 7 9 1 0 3 0 7 2 1] respectively\n"
     ]
    }
   ],
   "source": [
    "plt.figure(figsize=(20, 20))\n",
    "for i in range(21, 31, 1):\n",
    "    plt.subplot(21, 31, i+1)\n",
    "    plt.imshow(X_train[i],cmap='gray')\n",
    "    plt.axis('off')\n",
    "plt.show()\n",
    "print('Label of the image is %s respectively' % (y_train1[21:31]) )"
   ]
  },
  {
   "cell_type": "markdown",
   "metadata": {},
   "source": [
    "Checking 10 images selcted from randomly from training sets along with its label."
   ]
  },
  {
   "cell_type": "markdown",
   "metadata": {},
   "source": [
    "### Basis FeedForward NN "
   ]
  },
  {
   "cell_type": "code",
   "execution_count": 21,
   "metadata": {},
   "outputs": [],
   "source": [
    "from sklearn.datasets import fetch_openml\n",
    "from sklearn.metrics import classification_report, confusion_matrix"
   ]
  },
  {
   "cell_type": "code",
   "execution_count": 22,
   "metadata": {},
   "outputs": [],
   "source": [
    "inputData, y = np.asarray(X_val).reshape(60000, 1024), y_val"
   ]
  },
  {
   "cell_type": "code",
   "execution_count": 23,
   "metadata": {},
   "outputs": [],
   "source": [
    "inputData = inputData / 254.9745 # Max value of data is 254.9745\n",
    "nDigits = 10\n",
    "\n",
    "yOneHot = np.zeros([y.shape[0],nDigits])\n",
    "for i in range(y.shape[0]):\n",
    "    yOneHot[i,int(y[i])]=1\n",
    "\n",
    "y = yOneHot\n",
    "\n",
    "m = 42000\n",
    "m_test = inputData.shape[0] - m\n",
    "\n",
    "y_train, y_test = y[:m,:].reshape(m,nDigits), y[m:,:].reshape(m_test,nDigits)\n",
    "InputData_train, InputData_test = inputData[:m,:], inputData[m:,:]\n",
    "\n",
    "\n",
    "np.random.seed(1002)"
   ]
  },
  {
   "cell_type": "code",
   "execution_count": 24,
   "metadata": {},
   "outputs": [
    {
     "data": {
      "text/plain": [
       "(18000, 1024)"
      ]
     },
     "execution_count": 24,
     "metadata": {},
     "output_type": "execute_result"
    }
   ],
   "source": [
    "InputData_test.shape"
   ]
  },
  {
   "cell_type": "code",
   "execution_count": 25,
   "metadata": {},
   "outputs": [
    {
     "data": {
      "image/png": "[encoded data removed]",
      "text/plain": [
       "<Figure size 432x288 with 1 Axes>"
      ]
     },
     "metadata": {
      "needs_background": "light"
     },
     "output_type": "display_data"
    },
    {
     "name": "stdout",
     "output_type": "stream",
     "text": [
      "[0. 0. 0. 1. 0. 0. 0. 0. 0. 0.]\n"
     ]
    }
   ],
   "source": [
    "# Show a random input\n",
    "\n",
    "i = 12000\n",
    "plt.imshow(InputData_train[i,:].reshape(32,32), cmap ='gray')\n",
    "plt.axis(\"off\")\n",
    "plt.show()\n",
    "print(y_train[i,:])"
   ]
  },
  {
   "cell_type": "code",
   "execution_count": 26,
   "metadata": {},
   "outputs": [],
   "source": [
    "# Define activation, loss, and their derivatives\n",
    "\n",
    "def sigmoid(x):\n",
    "    return 1 / (1 + np.exp(-x))\n",
    "\n",
    "def sigmoid_derivative(z):\n",
    "    return z * (1-z)\n",
    "\n",
    "def relu (x):\n",
    "    return np.maximum(0,x) # ReLU is very simple\n",
    "\n",
    "def relu_derivative(x):\n",
    "    return 0.5 * (np.sign(x)+1) # ReLU derivative is either zero or 1.\n",
    "\n",
    "def CrossEntropyLoss(y, y_hat):\n",
    "    L_sum = np.sum(np.multiply(y, np.log(y_hat)))\n",
    "    m = y.shape[1]\n",
    "    L = -(1/m) * L_sum\n",
    "\n",
    "    return L\n",
    "\n",
    "def softmax(y):\n",
    "    return np.exp(y) / np.sum(np.exp(y), axis=0)\n",
    "\n",
    "def CE_Softmax_Derivative(output, ideal_output):\n",
    "    return output - ideal_output"
   ]
  },
  {
   "cell_type": "code",
   "execution_count": 27,
   "metadata": {},
   "outputs": [
    {
     "data": {
      "text/plain": [
       "42000"
      ]
     },
     "execution_count": 27,
     "metadata": {},
     "output_type": "execute_result"
    }
   ],
   "source": [
    "InputData_train.shape[0]"
   ]
  },
  {
   "cell_type": "code",
   "execution_count": 28,
   "metadata": {},
   "outputs": [],
   "source": [
    "inputDim = InputData_train.shape[1]\n",
    "nHidden = 80\n",
    "learning_rate = 0.0001\n",
    "weight_decay = 0.001\n",
    "\n",
    "W1 = 0.01*np.random.randn(nHidden, inputDim)\n",
    "b1 = np.zeros((nHidden, 1))\n",
    "W2 = 0.01*np.random.randn(nDigits, nHidden)\n",
    "b2 = np.zeros((nDigits, 1))\n",
    "\n",
    "inputData = InputData_train\n",
    "y = y_train"
   ]
  },
  {
   "cell_type": "code",
   "execution_count": 29,
   "metadata": {},
   "outputs": [
    {
     "data": {
      "text/plain": [
       "1024"
      ]
     },
     "execution_count": 29,
     "metadata": {},
     "output_type": "execute_result"
    }
   ],
   "source": [
    "InputData_train.shape[1]"
   ]
  },
  {
   "cell_type": "code",
   "execution_count": 30,
   "metadata": {},
   "outputs": [
    {
     "name": "stdout",
     "output_type": "stream",
     "text": [
      "Epoch 0 cost:  2.3026606875625157\n",
      "Epoch 10 cost:  2.3026542770212486\n",
      "Epoch 20 cost:  2.302648018624604\n",
      "Epoch 30 cost:  2.3026419083007927\n",
      "Epoch 40 cost:  2.3026359419115474\n",
      "Epoch 50 cost:  2.302630113996129\n",
      "Epoch 60 cost:  2.302624421065153\n",
      "Epoch 70 cost:  2.302618859146291\n",
      "Epoch 80 cost:  2.3026134234290523\n",
      "Epoch 90 cost:  2.3026081093756936\n"
     ]
    },
    {
     "data": {
      "text/plain": [
       "<function matplotlib.pyplot.show(*args, **kw)>"
      ]
     },
     "execution_count": 30,
     "metadata": {},
     "output_type": "execute_result"
    },
    {
     "data": {
      "image/png": "[encoded data removed]",
      "text/plain": [
       "<Figure size 432x288 with 1 Axes>"
      ]
     },
     "metadata": {
      "needs_background": "light"
     },
     "output_type": "display_data"
    }
   ],
   "source": [
    "nEpochs = 100\n",
    "costPlot = np.zeros(nEpochs)\n",
    "\n",
    "for i in range(nEpochs):\n",
    "\n",
    "    Z1 = np.matmul(W1,inputData.T) + b1\n",
    "    A1 = relu(Z1)\n",
    "    Z2 = np.matmul(W2,A1) + b2\n",
    "    A2 = softmax(Z2)\n",
    "\n",
    "    cost = CrossEntropyLoss(y.T, A2)\n",
    "    costPlot[i] = cost\n",
    "\n",
    "    dZ2 = CE_Softmax_Derivative(A2,y.T)\n",
    "    dW2 = (1./m) * np.matmul(dZ2, A1.T)\n",
    "    db2 = (1./m) * np.sum(dZ2, axis=1, keepdims=True)\n",
    "\n",
    "    dA1 = np.matmul(W2.T, dZ2)\n",
    "    dZ1 = dA1 * relu_derivative(Z1)\n",
    "    dW1 = (1./m) * np.matmul(dZ1, inputData)\n",
    "    db1 = (1./m) * np.sum(dZ1, axis=1, keepdims=True)\n",
    "\n",
    "    W2 -= learning_rate * dW2 + weight_decay * W2\n",
    "    b2 -= learning_rate * db2\n",
    "    W1 -= learning_rate * dW1 + weight_decay * W1\n",
    "    b1 -= learning_rate * db1\n",
    "    \n",
    "    if (i % 10 == 0):\n",
    "        print(\"Epoch\", i, \"cost: \", cost)\n",
    "    \n",
    "plt.plot(costPlot)\n",
    "plt.xlabel('Epochs')\n",
    "plt.ylabel('Training Loss')\n",
    "plt.show"
   ]
  },
  {
   "cell_type": "markdown",
   "metadata": {},
   "source": [
    "No significant improvement seen after 100th Epoch. I have tried several combination of LR and Epoch but results has been in non significant range."
   ]
  },
  {
   "cell_type": "code",
   "execution_count": 31,
   "metadata": {},
   "outputs": [
    {
     "name": "stdout",
     "output_type": "stream",
     "text": [
      "[[   0   64   45   37   19   25   32   23   34   34]\n",
      " [   0    0    8    5    2    2    0    1    3    7]\n",
      " [   0    0    0    0    0    0    0    0    0    0]\n",
      " [   0   35   35   25   31   27   59   32   39   30]\n",
      " [   0  278  204  251  200  141  114  170  149  142]\n",
      " [   0 1032 1204 1118 1057 1153 1091 1246 1079 1132]\n",
      " [   0  515  434  456  554  523  574  407  576  471]\n",
      " [   0   76   68  107  135  127  129  120  117  182]\n",
      " [   0    0    2    1    0    0    0    1    0    0]\n",
      " [   0    0    0    0    2    2    1    0    3    2]]\n",
      "              precision    recall  f1-score   support\n",
      "\n",
      "           0       0.00      0.00      0.00       313\n",
      "           1       0.00      0.00      0.00        28\n",
      "           2       0.00      0.00      0.00         0\n",
      "           3       0.01      0.08      0.02       313\n",
      "           4       0.10      0.12      0.11      1649\n",
      "           5       0.58      0.11      0.19     10112\n",
      "           6       0.29      0.13      0.18      4510\n",
      "           7       0.06      0.11      0.08      1061\n",
      "           8       0.00      0.00      0.00         4\n",
      "           9       0.00      0.20      0.00        10\n",
      "\n",
      "    accuracy                           0.12     18000\n",
      "   macro avg       0.10      0.08      0.06     18000\n",
      "weighted avg       0.41      0.12      0.17     18000\n",
      "\n"
     ]
    },
    {
     "name": "stderr",
     "output_type": "stream",
     "text": [
      "C:\\Users\\bappa.bhalsing\\AppData\\Local\\Continuum\\anaconda3\\lib\\site-packages\\sklearn\\metrics\\_classification.py:1272: UndefinedMetricWarning: Precision and F-score are ill-defined and being set to 0.0 in labels with no predicted samples. Use `zero_division` parameter to control this behavior.\n",
      "  _warn_prf(average, modifier, msg_start, len(result))\n",
      "C:\\Users\\bappa.bhalsing\\AppData\\Local\\Continuum\\anaconda3\\lib\\site-packages\\sklearn\\metrics\\_classification.py:1272: UndefinedMetricWarning: Recall and F-score are ill-defined and being set to 0.0 in labels with no true samples. Use `zero_division` parameter to control this behavior.\n",
      "  _warn_prf(average, modifier, msg_start, len(result))\n"
     ]
    }
   ],
   "source": [
    "Z1 = np.matmul(W1, InputData_test.T) + b1\n",
    "A1 = relu(Z1)\n",
    "Z2 = np.matmul(W2, A1) + b2\n",
    "\n",
    "predictions = np.argmax(Z2, axis=0)\n",
    "labels = np.argmax(y_test.T, axis=0)\n",
    "\n",
    "print(confusion_matrix(predictions, labels))\n",
    "print(classification_report(predictions, labels))"
   ]
  },
  {
   "cell_type": "markdown",
   "metadata": {},
   "source": [
    "Accuracy Level is Just 12 %."
   ]
  },
  {
   "cell_type": "markdown",
   "metadata": {},
   "source": [
    "### Normalising data"
   ]
  },
  {
   "cell_type": "code",
   "execution_count": 32,
   "metadata": {},
   "outputs": [],
   "source": [
    "X_train = X_train.reshape(X_train.shape[0], 32, 32,1)\n",
    "X_test = X_test.reshape(X_test.shape[0], 32, 32,1)"
   ]
  },
  {
   "cell_type": "code",
   "execution_count": 33,
   "metadata": {},
   "outputs": [],
   "source": [
    "X_train = X_train.astype('float32')\n",
    "X_test = X_test.astype('float32')\n",
    "\n",
    "X_train /= 254.9745\n",
    "X_test /= 254.9745"
   ]
  },
  {
   "cell_type": "code",
   "execution_count": 34,
   "metadata": {},
   "outputs": [
    {
     "name": "stdout",
     "output_type": "stream",
     "text": [
      "X_train shape: (42000, 32, 32, 1)\n",
      "Images in X_train: 42000\n",
      "Images in X_test: 18000\n",
      "Max value in X_train: 1.0\n",
      "Min value in X_train: 0.0\n",
      "Max value in X_test: 1.0\n",
      "Min value in X_test: 0.0\n"
     ]
    }
   ],
   "source": [
    "print(\"X_train shape:\", X_train.shape)\n",
    "print(\"Images in X_train:\", X_train.shape[0])\n",
    "print(\"Images in X_test:\", X_test.shape[0])\n",
    "print(\"Max value in X_train:\", X_train.max())\n",
    "print(\"Min value in X_train:\", X_train.min())\n",
    "print(\"Max value in X_test:\", X_train.max())\n",
    "print(\"Min value in X_test:\", X_train.min())"
   ]
  },
  {
   "cell_type": "markdown",
   "metadata": {},
   "source": [
    "### Implement Deep Neural Network"
   ]
  },
  {
   "cell_type": "code",
   "execution_count": 35,
   "metadata": {},
   "outputs": [],
   "source": [
    "from tensorflow.keras.utils import to_categorical\n",
    "from sklearn.metrics import confusion_matrix,accuracy_score\n",
    "from sklearn.metrics import classification_report\n",
    "from keras.models import Sequential\n",
    "from keras.utils.np_utils import to_categorical\n",
    "from keras.layers import Activation, Dense\n",
    "from keras.layers import BatchNormalization, Dropout\n",
    "from keras import optimizers"
   ]
  },
  {
   "cell_type": "code",
   "execution_count": 36,
   "metadata": {},
   "outputs": [
    {
     "name": "stdout",
     "output_type": "stream",
     "text": [
      "Value before encoding: 2\n"
     ]
    }
   ],
   "source": [
    "print(\"Value before encoding:\", y_train1[0])"
   ]
  },
  {
   "cell_type": "code",
   "execution_count": 37,
   "metadata": {},
   "outputs": [
    {
     "name": "stdout",
     "output_type": "stream",
     "text": [
      "Shape of y_train: (42000, 10)\n",
      "One hot encoded value of y_train: [0. 0. 1. 0. 0. 0. 0. 0. 0. 0.]\n"
     ]
    }
   ],
   "source": [
    "y_train1 = to_categorical(y_train1, num_classes=10)\n",
    "y_test1 = to_categorical(y_test1, num_classes=10)\n",
    "y_val = to_categorical(y_val, num_classes=10)\n",
    "\n",
    "print(\"Shape of y_train:\", y_train1.shape)\n",
    "print(\"One hot encoded value of y_train:\", y_train1[0])"
   ]
  },
  {
   "cell_type": "markdown",
   "metadata": {},
   "source": [
    "- In result also it shows 2"
   ]
  },
  {
   "cell_type": "markdown",
   "metadata": {},
   "source": [
    "### Begining with basic Level of NN"
   ]
  },
  {
   "cell_type": "code",
   "execution_count": 38,
   "metadata": {},
   "outputs": [],
   "source": [
    "# Initialize Sequential model\n",
    "model0 = tf.keras.models.Sequential()\n",
    "\n",
    "# Reshape data from 2D to 1D -> 32x32 to 1024\n",
    "model0.add(tf.keras.layers.Reshape((1024,),input_shape=(32,32,1)))\n",
    "\n",
    "# Normalize the data\n",
    "# model.add(tf.keras.layers.BatchNormalization())"
   ]
  },
  {
   "cell_type": "markdown",
   "metadata": {},
   "source": [
    "### Optimisers"
   ]
  },
  {
   "cell_type": "code",
   "execution_count": 39,
   "metadata": {},
   "outputs": [],
   "source": [
    "adam_optimiser1=tf.keras.optimizers.Adam(lr=0.01)\n",
    "adam_optimiser2=tf.keras.optimizers.Adam(lr=0.0001)\n",
    "sgd_optimiser1=tf.keras.optimizers.SGD(lr=0.01)\n",
    "sgd_optimiser2=tf.keras.optimizers.SGD(lr=0.0001)"
   ]
  },
  {
   "cell_type": "markdown",
   "metadata": {},
   "source": [
    "Step 1\n",
    "#### Optimizer: \"adam\"  with Learning Rate: 0.01\n",
    "#### Activation Function: \"relu\""
   ]
  },
  {
   "cell_type": "code",
   "execution_count": 40,
   "metadata": {},
   "outputs": [],
   "source": [
    "#Input Layer\n",
    "model0.add(tf.keras.layers.Dense(512, activation='relu', name='Input'))\n",
    "\n",
    "# Hidden layers\n",
    "model0.add(tf.keras.layers.Dense(256, activation='relu', name='Layer_1'))\n",
    "model0.add(tf.keras.layers.Dense(128, activation='relu', name='Layer_2'))\n",
    "\n",
    "\n",
    "# Hidden layers\n",
    "model0.add(tf.keras.layers.Dense(64, activation='relu', name='Layer_3'))\n",
    "model0.add(tf.keras.layers.Dense(32, activation='relu', name='Layer_4'))\n",
    "\n",
    "\n",
    "#Output layer\n",
    "model0.add(tf.keras.layers.Dense(10, activation='softmax', name='Output'))"
   ]
  },
  {
   "cell_type": "code",
   "execution_count": 41,
   "metadata": {},
   "outputs": [
    {
     "name": "stdout",
     "output_type": "stream",
     "text": [
      "Model: \"sequential\"\n",
      "_________________________________________________________________\n",
      "Layer (type)                 Output Shape              Param #   \n",
      "=================================================================\n",
      "reshape (Reshape)            (None, 1024)              0         \n",
      "_________________________________________________________________\n",
      "Input (Dense)                (None, 512)               524800    \n",
      "_________________________________________________________________\n",
      "Layer_1 (Dense)              (None, 256)               131328    \n",
      "_________________________________________________________________\n",
      "Layer_2 (Dense)              (None, 128)               32896     \n",
      "_________________________________________________________________\n",
      "Layer_3 (Dense)              (None, 64)                8256      \n",
      "_________________________________________________________________\n",
      "Layer_4 (Dense)              (None, 32)                2080      \n",
      "_________________________________________________________________\n",
      "Output (Dense)               (None, 10)                330       \n",
      "=================================================================\n",
      "Total params: 699,690\n",
      "Trainable params: 699,690\n",
      "Non-trainable params: 0\n",
      "_________________________________________________________________\n"
     ]
    }
   ],
   "source": [
    "model0.summary()"
   ]
  },
  {
   "cell_type": "code",
   "execution_count": 42,
   "metadata": {},
   "outputs": [],
   "source": [
    "model0.compile(optimizer=adam_optimiser1, loss='categorical_crossentropy', metrics=['accuracy']) # adam Lr=0.01"
   ]
  },
  {
   "cell_type": "code",
   "execution_count": 43,
   "metadata": {
    "scrolled": true
   },
   "outputs": [
    {
     "name": "stdout",
     "output_type": "stream",
     "text": [
      "Train on 42000 samples, validate on 18000 samples\n",
      "Epoch 1/10\n",
      "42000/42000 [==============================] - 14s 337us/sample - loss: 2.3157 - accuracy: 0.0990 - val_loss: 2.3038 - val_accuracy: 0.1018\n",
      "Epoch 2/10\n",
      "42000/42000 [==============================] - 11s 262us/sample - loss: 2.3040 - accuracy: 0.0992 - val_loss: 2.3037 - val_accuracy: 0.1007\n",
      "Epoch 3/10\n",
      "42000/42000 [==============================] - 11s 257us/sample - loss: 2.3038 - accuracy: 0.1007 - val_loss: 2.3046 - val_accuracy: 0.0982\n",
      "Epoch 4/10\n",
      "42000/42000 [==============================] - 11s 270us/sample - loss: 2.3039 - accuracy: 0.1011 - val_loss: 2.3030 - val_accuracy: 0.1008\n",
      "Epoch 5/10\n",
      "42000/42000 [==============================] - 11s 257us/sample - loss: 2.3040 - accuracy: 0.1014 - val_loss: 2.3051 - val_accuracy: 0.0955\n",
      "Epoch 6/10\n",
      "42000/42000 [==============================] - 11s 259us/sample - loss: 2.3042 - accuracy: 0.0973 - val_loss: 2.3037 - val_accuracy: 0.0982\n",
      "Epoch 7/10\n",
      "42000/42000 [==============================] - 11s 258us/sample - loss: 2.3040 - accuracy: 0.1009 - val_loss: 2.3039 - val_accuracy: 0.1004\n",
      "Epoch 8/10\n",
      "42000/42000 [==============================] - 12s 276us/sample - loss: 2.3040 - accuracy: 0.0995 - val_loss: 2.3040 - val_accuracy: 0.1004\n",
      "Epoch 9/10\n",
      "42000/42000 [==============================] - 12s 293us/sample - loss: 2.3039 - accuracy: 0.0990 - val_loss: 2.3040 - val_accuracy: 0.0982\n",
      "Epoch 10/10\n",
      "42000/42000 [==============================] - 12s 287us/sample - loss: 2.3041 - accuracy: 0.1000 - val_loss: 2.3037 - val_accuracy: 0.1008\n"
     ]
    },
    {
     "data": {
      "text/plain": [
       "<tensorflow.python.keras.callbacks.History at 0x1f01ddc4788>"
      ]
     },
     "execution_count": 43,
     "metadata": {},
     "output_type": "execute_result"
    }
   ],
   "source": [
    "model0.fit(X_train, y_train1, validation_data=(X_test, y_test1), epochs=10, verbose=1 )"
   ]
  },
  {
   "cell_type": "markdown",
   "metadata": {},
   "source": [
    "Accuracy level is just 10 % and so need further step wise evaluation of Model.\n",
    "And Validation Loss 2.3034 which is equivalent earlier step"
   ]
  },
  {
   "cell_type": "markdown",
   "metadata": {},
   "source": [
    "### Try out SGD optimiser Combination"
   ]
  },
  {
   "cell_type": "code",
   "execution_count": 44,
   "metadata": {},
   "outputs": [],
   "source": [
    "# Initialize Sequential model\n",
    "model = tf.keras.models.Sequential()\n",
    "\n",
    "# Reshape data from 2D to 1D -> 32x32 to 1024\n",
    "model.add(tf.keras.layers.Reshape((1024,),input_shape=(32,32,1)))"
   ]
  },
  {
   "cell_type": "code",
   "execution_count": 45,
   "metadata": {},
   "outputs": [],
   "source": [
    "#Input Layer\n",
    "model.add(tf.keras.layers.Dense(512, activation='relu', name='Input'))\n",
    "\n",
    "# Hidden layers\n",
    "model.add(tf.keras.layers.Dense(256, activation='relu', name='Layer_1'))\n",
    "model.add(tf.keras.layers.Dense(128, activation='relu', name='Layer_2'))\n",
    "\n",
    "\n",
    "# Hidden layers\n",
    "model.add(tf.keras.layers.Dense(64, activation='relu', name='Layer_3'))\n",
    "model.add(tf.keras.layers.Dense(32, activation='relu', name='Layer_4'))\n",
    "\n",
    "\n",
    "#Output layer\n",
    "model.add(tf.keras.layers.Dense(10, activation='softmax', name='Output'))"
   ]
  },
  {
   "cell_type": "code",
   "execution_count": 46,
   "metadata": {},
   "outputs": [
    {
     "name": "stdout",
     "output_type": "stream",
     "text": [
      "Model: \"sequential_1\"\n",
      "_________________________________________________________________\n",
      "Layer (type)                 Output Shape              Param #   \n",
      "=================================================================\n",
      "reshape_1 (Reshape)          (None, 1024)              0         \n",
      "_________________________________________________________________\n",
      "Input (Dense)                (None, 512)               524800    \n",
      "_________________________________________________________________\n",
      "Layer_1 (Dense)              (None, 256)               131328    \n",
      "_________________________________________________________________\n",
      "Layer_2 (Dense)              (None, 128)               32896     \n",
      "_________________________________________________________________\n",
      "Layer_3 (Dense)              (None, 64)                8256      \n",
      "_________________________________________________________________\n",
      "Layer_4 (Dense)              (None, 32)                2080      \n",
      "_________________________________________________________________\n",
      "Output (Dense)               (None, 10)                330       \n",
      "=================================================================\n",
      "Total params: 699,690\n",
      "Trainable params: 699,690\n",
      "Non-trainable params: 0\n",
      "_________________________________________________________________\n"
     ]
    }
   ],
   "source": [
    "model.summary()"
   ]
  },
  {
   "cell_type": "code",
   "execution_count": 47,
   "metadata": {},
   "outputs": [],
   "source": [
    "model.compile(optimizer=sgd_optimiser1, loss='categorical_crossentropy', metrics=['accuracy']) # sgd Lr=0.01"
   ]
  },
  {
   "cell_type": "code",
   "execution_count": 48,
   "metadata": {},
   "outputs": [
    {
     "name": "stdout",
     "output_type": "stream",
     "text": [
      "Train on 42000 samples, validate on 18000 samples\n",
      "Epoch 1/10\n",
      "42000/42000 [==============================] - 9s 217us/sample - loss: 2.2620 - accuracy: 0.1636 - val_loss: 2.1565 - val_accuracy: 0.2193\n",
      "Epoch 2/10\n",
      "42000/42000 [==============================] - 9s 206us/sample - loss: 1.9648 - accuracy: 0.3160 - val_loss: 1.7641 - val_accuracy: 0.4069\n",
      "Epoch 3/10\n",
      "42000/42000 [==============================] - 9s 206us/sample - loss: 1.5468 - accuracy: 0.4924 - val_loss: 1.6010 - val_accuracy: 0.4512\n",
      "Epoch 4/10\n",
      "42000/42000 [==============================] - 9s 207us/sample - loss: 1.3134 - accuracy: 0.5773 - val_loss: 1.3608 - val_accuracy: 0.5469\n",
      "Epoch 5/10\n",
      "42000/42000 [==============================] - 9s 206us/sample - loss: 1.1699 - accuracy: 0.6316 - val_loss: 1.2430 - val_accuracy: 0.6144\n",
      "Epoch 6/10\n",
      "42000/42000 [==============================] - 9s 206us/sample - loss: 1.0699 - accuracy: 0.6637 - val_loss: 1.0099 - val_accuracy: 0.6842\n",
      "Epoch 7/10\n",
      "42000/42000 [==============================] - 9s 205us/sample - loss: 1.0006 - accuracy: 0.6880 - val_loss: 0.9737 - val_accuracy: 0.6971\n",
      "Epoch 8/10\n",
      "42000/42000 [==============================] - 9s 206us/sample - loss: 0.9367 - accuracy: 0.7077 - val_loss: 1.0198 - val_accuracy: 0.6834\n",
      "Epoch 9/10\n",
      "42000/42000 [==============================] - 9s 207us/sample - loss: 0.8914 - accuracy: 0.7226 - val_loss: 0.9096 - val_accuracy: 0.7127\n",
      "Epoch 10/10\n",
      "42000/42000 [==============================] - 9s 208us/sample - loss: 0.8475 - accuracy: 0.7342 - val_loss: 0.9849 - val_accuracy: 0.6800\n"
     ]
    },
    {
     "data": {
      "text/plain": [
       "<tensorflow.python.keras.callbacks.History at 0x1f01ebef508>"
      ]
     },
     "execution_count": 48,
     "metadata": {},
     "output_type": "execute_result"
    }
   ],
   "source": [
    "model.fit(X_train, y_train1, validation_data=(X_test, y_test1), epochs=10, verbose=1 )"
   ]
  },
  {
   "cell_type": "markdown",
   "metadata": {},
   "source": [
    "After executing model for 10 Epoch, Iprovement is seen and accuracy level reached to 69 % Level in validation tuple and 72 % for Traing set\n",
    "Changes made: SDG optimiser applied "
   ]
  },
  {
   "cell_type": "markdown",
   "metadata": {},
   "source": [
    "### Step 3"
   ]
  },
  {
   "cell_type": "markdown",
   "metadata": {},
   "source": [
    "#### Optimizer: 'adam'\n",
    "#### Activation: 'relu'\n",
    "#### Learning Rate: 0.0001"
   ]
  },
  {
   "cell_type": "code",
   "execution_count": 49,
   "metadata": {},
   "outputs": [],
   "source": [
    "# Initialize Sequential model\n",
    "modela = tf.keras.models.Sequential()\n",
    "\n",
    "# Reshape data from 2D to 1D -> 32x32 to 1024\n",
    "modela.add(tf.keras.layers.Reshape((1024,),input_shape=(32,32,1)))"
   ]
  },
  {
   "cell_type": "code",
   "execution_count": 50,
   "metadata": {},
   "outputs": [],
   "source": [
    "#Input Layer\n",
    "modela.add(tf.keras.layers.Dense(512, activation='relu', name='Input'))\n",
    "\n",
    "# Hidden layers\n",
    "modela.add(tf.keras.layers.Dense(256, activation='relu', name='Layer_1'))\n",
    "modela.add(tf.keras.layers.Dense(128, activation='relu', name='Layer_2'))\n",
    "\n",
    "\n",
    "# Hidden layers\n",
    "modela.add(tf.keras.layers.Dense(64, activation='relu', name='Layer_3'))\n",
    "modela.add(tf.keras.layers.Dense(32, activation='relu', name='Layer_4'))\n",
    "\n",
    "\n",
    "#Output layer\n",
    "modela.add(tf.keras.layers.Dense(10, activation='softmax', name='Output'))"
   ]
  },
  {
   "cell_type": "code",
   "execution_count": 51,
   "metadata": {},
   "outputs": [],
   "source": [
    "modela.compile(optimizer=adam_optimiser2, loss='categorical_crossentropy', metrics=['accuracy']) # adam Lr =.0001"
   ]
  },
  {
   "cell_type": "code",
   "execution_count": 52,
   "metadata": {},
   "outputs": [
    {
     "name": "stdout",
     "output_type": "stream",
     "text": [
      "Model: \"sequential_2\"\n",
      "_________________________________________________________________\n",
      "Layer (type)                 Output Shape              Param #   \n",
      "=================================================================\n",
      "reshape_2 (Reshape)          (None, 1024)              0         \n",
      "_________________________________________________________________\n",
      "Input (Dense)                (None, 512)               524800    \n",
      "_________________________________________________________________\n",
      "Layer_1 (Dense)              (None, 256)               131328    \n",
      "_________________________________________________________________\n",
      "Layer_2 (Dense)              (None, 128)               32896     \n",
      "_________________________________________________________________\n",
      "Layer_3 (Dense)              (None, 64)                8256      \n",
      "_________________________________________________________________\n",
      "Layer_4 (Dense)              (None, 32)                2080      \n",
      "_________________________________________________________________\n",
      "Output (Dense)               (None, 10)                330       \n",
      "=================================================================\n",
      "Total params: 699,690\n",
      "Trainable params: 699,690\n",
      "Non-trainable params: 0\n",
      "_________________________________________________________________\n"
     ]
    }
   ],
   "source": [
    "modela.summary()"
   ]
  },
  {
   "cell_type": "code",
   "execution_count": 53,
   "metadata": {},
   "outputs": [
    {
     "name": "stdout",
     "output_type": "stream",
     "text": [
      "Train on 42000 samples, validate on 18000 samples\n",
      "Epoch 1/100\n",
      "42000/42000 [==============================] - 3s 82us/sample - loss: 2.2719 - accuracy: 0.1676 - val_loss: 2.2052 - val_accuracy: 0.2752\n",
      "Epoch 2/100\n",
      "42000/42000 [==============================] - 3s 69us/sample - loss: 2.0513 - accuracy: 0.3352 - val_loss: 1.8574 - val_accuracy: 0.4324\n",
      "Epoch 3/100\n",
      "42000/42000 [==============================] - 3s 69us/sample - loss: 1.6708 - accuracy: 0.4930 - val_loss: 1.5010 - val_accuracy: 0.5550\n",
      "Epoch 4/100\n",
      "42000/42000 [==============================] - 3s 69us/sample - loss: 1.4199 - accuracy: 0.5754 - val_loss: 1.3430 - val_accuracy: 0.5832\n",
      "Epoch 5/100\n",
      "42000/42000 [==============================] - 3s 70us/sample - loss: 1.2965 - accuracy: 0.6025 - val_loss: 1.2394 - val_accuracy: 0.6311\n",
      "Epoch 6/100\n",
      "42000/42000 [==============================] - 3s 71us/sample - loss: 1.2111 - accuracy: 0.6315 - val_loss: 1.1694 - val_accuracy: 0.6493\n",
      "Epoch 7/100\n",
      "42000/42000 [==============================] - 3s 70us/sample - loss: 1.1475 - accuracy: 0.6520 - val_loss: 1.1389 - val_accuracy: 0.6621\n",
      "Epoch 8/100\n",
      "42000/42000 [==============================] - 3s 70us/sample - loss: 1.1039 - accuracy: 0.6644 - val_loss: 1.1193 - val_accuracy: 0.6601\n",
      "Epoch 9/100\n",
      "42000/42000 [==============================] - 3s 71us/sample - loss: 1.0698 - accuracy: 0.6734 - val_loss: 1.0478 - val_accuracy: 0.6869\n",
      "Epoch 10/100\n",
      "42000/42000 [==============================] - 3s 71us/sample - loss: 1.0297 - accuracy: 0.6866 - val_loss: 1.0259 - val_accuracy: 0.6911\n",
      "Epoch 11/100\n",
      "42000/42000 [==============================] - 3s 70us/sample - loss: 1.0006 - accuracy: 0.6958 - val_loss: 1.0019 - val_accuracy: 0.6988\n",
      "Epoch 12/100\n",
      "42000/42000 [==============================] - 3s 71us/sample - loss: 0.9678 - accuracy: 0.7052 - val_loss: 0.9683 - val_accuracy: 0.7115\n",
      "Epoch 13/100\n",
      "42000/42000 [==============================] - 3s 71us/sample - loss: 0.9406 - accuracy: 0.7137 - val_loss: 0.9863 - val_accuracy: 0.6994\n",
      "Epoch 14/100\n",
      "42000/42000 [==============================] - 3s 80us/sample - loss: 0.9230 - accuracy: 0.7205 - val_loss: 0.9374 - val_accuracy: 0.7186\n",
      "Epoch 15/100\n",
      "42000/42000 [==============================] - 3s 75us/sample - loss: 0.8905 - accuracy: 0.7315 - val_loss: 0.9135 - val_accuracy: 0.7263\n",
      "Epoch 16/100\n",
      "42000/42000 [==============================] - 3s 71us/sample - loss: 0.8684 - accuracy: 0.7393 - val_loss: 0.9156 - val_accuracy: 0.7242\n",
      "Epoch 17/100\n",
      "42000/42000 [==============================] - 3s 80us/sample - loss: 0.8438 - accuracy: 0.7459 - val_loss: 0.8609 - val_accuracy: 0.7472\n",
      "Epoch 18/100\n",
      "42000/42000 [==============================] - 3s 71us/sample - loss: 0.8267 - accuracy: 0.7506 - val_loss: 0.8627 - val_accuracy: 0.7454\n",
      "Epoch 19/100\n",
      "42000/42000 [==============================] - 3s 71us/sample - loss: 0.8188 - accuracy: 0.7529 - val_loss: 0.8592 - val_accuracy: 0.7446\n",
      "Epoch 20/100\n",
      "42000/42000 [==============================] - 3s 72us/sample - loss: 0.7899 - accuracy: 0.7658 - val_loss: 0.8398 - val_accuracy: 0.7501\n",
      "Epoch 21/100\n",
      "42000/42000 [==============================] - 3s 80us/sample - loss: 0.7832 - accuracy: 0.7621 - val_loss: 0.8318 - val_accuracy: 0.7528\n",
      "Epoch 22/100\n",
      "42000/42000 [==============================] - 3s 71us/sample - loss: 0.7614 - accuracy: 0.7725 - val_loss: 0.8135 - val_accuracy: 0.7580\n",
      "Epoch 23/100\n",
      "42000/42000 [==============================] - 3s 71us/sample - loss: 0.7505 - accuracy: 0.7750 - val_loss: 0.8053 - val_accuracy: 0.7620\n",
      "Epoch 24/100\n",
      "42000/42000 [==============================] - 3s 71us/sample - loss: 0.7387 - accuracy: 0.7781 - val_loss: 0.7837 - val_accuracy: 0.7702\n",
      "Epoch 25/100\n",
      "42000/42000 [==============================] - 3s 71us/sample - loss: 0.7333 - accuracy: 0.7795 - val_loss: 0.8082 - val_accuracy: 0.7561\n",
      "Epoch 26/100\n",
      "42000/42000 [==============================] - 3s 71us/sample - loss: 0.7148 - accuracy: 0.7859 - val_loss: 0.7630 - val_accuracy: 0.7761\n",
      "Epoch 27/100\n",
      "42000/42000 [==============================] - 3s 71us/sample - loss: 0.6974 - accuracy: 0.7931 - val_loss: 0.7653 - val_accuracy: 0.7778\n",
      "Epoch 28/100\n",
      "42000/42000 [==============================] - 3s 75us/sample - loss: 0.6917 - accuracy: 0.7931 - val_loss: 0.7548 - val_accuracy: 0.7776\n",
      "Epoch 29/100\n",
      "42000/42000 [==============================] - 3s 77us/sample - loss: 0.6774 - accuracy: 0.7979 - val_loss: 0.7521 - val_accuracy: 0.7797\n",
      "Epoch 30/100\n",
      "42000/42000 [==============================] - 3s 71us/sample - loss: 0.6680 - accuracy: 0.8010 - val_loss: 0.7490 - val_accuracy: 0.7777\n",
      "Epoch 31/100\n",
      "42000/42000 [==============================] - 3s 71us/sample - loss: 0.6644 - accuracy: 0.7996 - val_loss: 0.7437 - val_accuracy: 0.7821\n",
      "Epoch 32/100\n",
      "42000/42000 [==============================] - 3s 71us/sample - loss: 0.6552 - accuracy: 0.8030 - val_loss: 0.7267 - val_accuracy: 0.7898\n",
      "Epoch 33/100\n",
      "42000/42000 [==============================] - 3s 72us/sample - loss: 0.6420 - accuracy: 0.8076 - val_loss: 0.7294 - val_accuracy: 0.7842\n",
      "Epoch 34/100\n",
      "42000/42000 [==============================] - 3s 72us/sample - loss: 0.6306 - accuracy: 0.8125 - val_loss: 0.7358 - val_accuracy: 0.7878\n",
      "Epoch 35/100\n",
      "42000/42000 [==============================] - 3s 71us/sample - loss: 0.6227 - accuracy: 0.8132 - val_loss: 0.7284 - val_accuracy: 0.7891\n",
      "Epoch 36/100\n",
      "42000/42000 [==============================] - 3s 72us/sample - loss: 0.6123 - accuracy: 0.8170 - val_loss: 0.6953 - val_accuracy: 0.7964\n",
      "Epoch 37/100\n",
      "42000/42000 [==============================] - 3s 71us/sample - loss: 0.6022 - accuracy: 0.8202 - val_loss: 0.7085 - val_accuracy: 0.7932\n",
      "Epoch 38/100\n",
      "42000/42000 [==============================] - 3s 71us/sample - loss: 0.5989 - accuracy: 0.8214 - val_loss: 0.7060 - val_accuracy: 0.7934\n",
      "Epoch 39/100\n",
      "42000/42000 [==============================] - 3s 71us/sample - loss: 0.5907 - accuracy: 0.8230 - val_loss: 0.6840 - val_accuracy: 0.8027\n",
      "Epoch 40/100\n",
      "42000/42000 [==============================] - 3s 71us/sample - loss: 0.5902 - accuracy: 0.8220 - val_loss: 0.6913 - val_accuracy: 0.8004\n",
      "Epoch 41/100\n",
      "42000/42000 [==============================] - 3s 71us/sample - loss: 0.5800 - accuracy: 0.8257 - val_loss: 0.6925 - val_accuracy: 0.7956\n",
      "Epoch 42/100\n",
      "42000/42000 [==============================] - 3s 73us/sample - loss: 0.5680 - accuracy: 0.8309 - val_loss: 0.6831 - val_accuracy: 0.8046\n",
      "Epoch 43/100\n",
      "42000/42000 [==============================] - 3s 79us/sample - loss: 0.5608 - accuracy: 0.8318 - val_loss: 0.6766 - val_accuracy: 0.8063\n",
      "Epoch 44/100\n",
      "42000/42000 [==============================] - 3s 71us/sample - loss: 0.5561 - accuracy: 0.8327 - val_loss: 0.6714 - val_accuracy: 0.8069\n",
      "Epoch 45/100\n",
      "42000/42000 [==============================] - 3s 71us/sample - loss: 0.5538 - accuracy: 0.8336 - val_loss: 0.6994 - val_accuracy: 0.7972\n",
      "Epoch 46/100\n",
      "42000/42000 [==============================] - 3s 76us/sample - loss: 0.5516 - accuracy: 0.8344 - val_loss: 0.6595 - val_accuracy: 0.8098\n",
      "Epoch 47/100\n",
      "42000/42000 [==============================] - 3s 75us/sample - loss: 0.5400 - accuracy: 0.8376 - val_loss: 0.6651 - val_accuracy: 0.8104\n",
      "Epoch 48/100\n",
      "42000/42000 [==============================] - 3s 71us/sample - loss: 0.5341 - accuracy: 0.8395 - val_loss: 0.6609 - val_accuracy: 0.8104\n",
      "Epoch 49/100\n",
      "42000/42000 [==============================] - 3s 71us/sample - loss: 0.5263 - accuracy: 0.8420 - val_loss: 0.6695 - val_accuracy: 0.8084\n",
      "Epoch 50/100\n",
      "42000/42000 [==============================] - 3s 71us/sample - loss: 0.5221 - accuracy: 0.8434 - val_loss: 0.6474 - val_accuracy: 0.8168\n",
      "Epoch 51/100\n",
      "42000/42000 [==============================] - 3s 71us/sample - loss: 0.5207 - accuracy: 0.8430 - val_loss: 0.6461 - val_accuracy: 0.8176\n",
      "Epoch 52/100\n",
      "42000/42000 [==============================] - 3s 71us/sample - loss: 0.5105 - accuracy: 0.8456 - val_loss: 0.6820 - val_accuracy: 0.8053\n",
      "Epoch 53/100\n",
      "42000/42000 [==============================] - 3s 71us/sample - loss: 0.5061 - accuracy: 0.8479 - val_loss: 0.6534 - val_accuracy: 0.8134\n",
      "Epoch 54/100\n",
      "42000/42000 [==============================] - 3s 71us/sample - loss: 0.5003 - accuracy: 0.8493 - val_loss: 0.6529 - val_accuracy: 0.8124\n"
     ]
    },
    {
     "name": "stdout",
     "output_type": "stream",
     "text": [
      "Epoch 55/100\n",
      "42000/42000 [==============================] - 3s 70us/sample - loss: 0.4913 - accuracy: 0.8527 - val_loss: 0.6503 - val_accuracy: 0.8147\n",
      "Epoch 56/100\n",
      "42000/42000 [==============================] - 3s 70us/sample - loss: 0.4891 - accuracy: 0.8534 - val_loss: 0.6316 - val_accuracy: 0.8194\n",
      "Epoch 57/100\n",
      "42000/42000 [==============================] - 3s 70us/sample - loss: 0.4820 - accuracy: 0.8551 - val_loss: 0.6577 - val_accuracy: 0.8125\n",
      "Epoch 58/100\n",
      "42000/42000 [==============================] - 3s 72us/sample - loss: 0.4813 - accuracy: 0.8548 - val_loss: 0.6425 - val_accuracy: 0.8163\n",
      "Epoch 59/100\n",
      "42000/42000 [==============================] - 3s 70us/sample - loss: 0.4729 - accuracy: 0.8565 - val_loss: 0.6411 - val_accuracy: 0.8201\n",
      "Epoch 60/100\n",
      "42000/42000 [==============================] - 3s 71us/sample - loss: 0.4706 - accuracy: 0.8579 - val_loss: 0.6254 - val_accuracy: 0.8231\n",
      "Epoch 61/100\n",
      "42000/42000 [==============================] - 3s 70us/sample - loss: 0.4668 - accuracy: 0.8589 - val_loss: 0.6226 - val_accuracy: 0.8259\n",
      "Epoch 62/100\n",
      "42000/42000 [==============================] - 3s 70us/sample - loss: 0.4565 - accuracy: 0.8620 - val_loss: 0.6253 - val_accuracy: 0.8244\n",
      "Epoch 63/100\n",
      "42000/42000 [==============================] - 3s 70us/sample - loss: 0.4544 - accuracy: 0.8628 - val_loss: 0.6440 - val_accuracy: 0.8194\n",
      "Epoch 64/100\n",
      "42000/42000 [==============================] - 3s 70us/sample - loss: 0.4499 - accuracy: 0.8652 - val_loss: 0.6227 - val_accuracy: 0.8239\n",
      "Epoch 65/100\n",
      "42000/42000 [==============================] - 3s 70us/sample - loss: 0.4472 - accuracy: 0.8645 - val_loss: 0.6473 - val_accuracy: 0.8201\n",
      "Epoch 66/100\n",
      "42000/42000 [==============================] - 3s 71us/sample - loss: 0.4452 - accuracy: 0.8664 - val_loss: 0.6416 - val_accuracy: 0.8191\n",
      "Epoch 67/100\n",
      "42000/42000 [==============================] - 3s 70us/sample - loss: 0.4353 - accuracy: 0.8681 - val_loss: 0.6175 - val_accuracy: 0.8256\n",
      "Epoch 68/100\n",
      "42000/42000 [==============================] - 3s 70us/sample - loss: 0.4302 - accuracy: 0.8697 - val_loss: 0.6233 - val_accuracy: 0.8272\n",
      "Epoch 69/100\n",
      "42000/42000 [==============================] - 3s 70us/sample - loss: 0.4329 - accuracy: 0.8685 - val_loss: 0.6315 - val_accuracy: 0.8229\n",
      "Epoch 70/100\n",
      "42000/42000 [==============================] - 3s 81us/sample - loss: 0.4213 - accuracy: 0.8728 - val_loss: 0.6166 - val_accuracy: 0.8294\n",
      "Epoch 71/100\n",
      "42000/42000 [==============================] - 3s 71us/sample - loss: 0.4181 - accuracy: 0.8754 - val_loss: 0.6113 - val_accuracy: 0.8287\n",
      "Epoch 72/100\n",
      "42000/42000 [==============================] - 3s 70us/sample - loss: 0.4244 - accuracy: 0.8720 - val_loss: 0.6109 - val_accuracy: 0.8298\n",
      "Epoch 73/100\n",
      "42000/42000 [==============================] - 3s 72us/sample - loss: 0.4166 - accuracy: 0.8735 - val_loss: 0.6262 - val_accuracy: 0.8252\n",
      "Epoch 74/100\n",
      "42000/42000 [==============================] - 3s 71us/sample - loss: 0.4113 - accuracy: 0.8758 - val_loss: 0.6056 - val_accuracy: 0.8318\n",
      "Epoch 75/100\n",
      "42000/42000 [==============================] - 3s 71us/sample - loss: 0.4029 - accuracy: 0.8770 - val_loss: 0.6332 - val_accuracy: 0.8216\n",
      "Epoch 76/100\n",
      "42000/42000 [==============================] - 3s 71us/sample - loss: 0.3993 - accuracy: 0.8790 - val_loss: 0.6144 - val_accuracy: 0.8269\n",
      "Epoch 77/100\n",
      "42000/42000 [==============================] - 3s 71us/sample - loss: 0.3994 - accuracy: 0.8814 - val_loss: 0.6035 - val_accuracy: 0.8320\n",
      "Epoch 78/100\n",
      "42000/42000 [==============================] - 3s 70us/sample - loss: 0.3910 - accuracy: 0.8826 - val_loss: 0.5881 - val_accuracy: 0.8388\n",
      "Epoch 79/100\n",
      "42000/42000 [==============================] - 3s 71us/sample - loss: 0.3926 - accuracy: 0.8827 - val_loss: 0.6162 - val_accuracy: 0.8281\n",
      "Epoch 80/100\n",
      "42000/42000 [==============================] - 3s 78us/sample - loss: 0.3869 - accuracy: 0.8843 - val_loss: 0.6036 - val_accuracy: 0.8336\n",
      "Epoch 81/100\n",
      "42000/42000 [==============================] - 4s 87us/sample - loss: 0.3803 - accuracy: 0.8854 - val_loss: 0.6058 - val_accuracy: 0.8323\n",
      "Epoch 82/100\n",
      "42000/42000 [==============================] - 4s 85us/sample - loss: 0.3812 - accuracy: 0.8855 - val_loss: 0.6076 - val_accuracy: 0.8318\n",
      "Epoch 83/100\n",
      "42000/42000 [==============================] - 3s 72us/sample - loss: 0.3776 - accuracy: 0.8868 - val_loss: 0.6124 - val_accuracy: 0.8290\n",
      "Epoch 84/100\n",
      "42000/42000 [==============================] - 3s 75us/sample - loss: 0.3760 - accuracy: 0.8868 - val_loss: 0.6062 - val_accuracy: 0.8309\n",
      "Epoch 85/100\n",
      "42000/42000 [==============================] - 4s 87us/sample - loss: 0.3717 - accuracy: 0.8894 - val_loss: 0.6171 - val_accuracy: 0.8314\n",
      "Epoch 86/100\n",
      "42000/42000 [==============================] - 4s 89us/sample - loss: 0.3634 - accuracy: 0.8902 - val_loss: 0.6347 - val_accuracy: 0.8265\n",
      "Epoch 87/100\n",
      "42000/42000 [==============================] - 3s 75us/sample - loss: 0.3652 - accuracy: 0.8883 - val_loss: 0.6161 - val_accuracy: 0.8301\n",
      "Epoch 88/100\n",
      "42000/42000 [==============================] - 4s 89us/sample - loss: 0.3662 - accuracy: 0.8899 - val_loss: 0.5976 - val_accuracy: 0.8379\n",
      "Epoch 89/100\n",
      "42000/42000 [==============================] - 3s 80us/sample - loss: 0.3553 - accuracy: 0.8938 - val_loss: 0.6105 - val_accuracy: 0.8327\n",
      "Epoch 90/100\n",
      "42000/42000 [==============================] - 3s 80us/sample - loss: 0.3543 - accuracy: 0.8941 - val_loss: 0.6220 - val_accuracy: 0.8293\n",
      "Epoch 91/100\n",
      "42000/42000 [==============================] - 3s 78us/sample - loss: 0.3507 - accuracy: 0.8941 - val_loss: 0.6105 - val_accuracy: 0.8326\n",
      "Epoch 92/100\n",
      "42000/42000 [==============================] - 3s 76us/sample - loss: 0.3426 - accuracy: 0.8983 - val_loss: 0.6202 - val_accuracy: 0.8297\n",
      "Epoch 93/100\n",
      "42000/42000 [==============================] - 3s 73us/sample - loss: 0.3424 - accuracy: 0.8970 - val_loss: 0.6151 - val_accuracy: 0.8330\n",
      "Epoch 94/100\n",
      "42000/42000 [==============================] - 3s 77us/sample - loss: 0.3417 - accuracy: 0.8976 - val_loss: 0.6059 - val_accuracy: 0.8370\n",
      "Epoch 95/100\n",
      "42000/42000 [==============================] - 3s 78us/sample - loss: 0.3384 - accuracy: 0.8978 - val_loss: 0.6106 - val_accuracy: 0.8348\n",
      "Epoch 96/100\n",
      "42000/42000 [==============================] - 3s 74us/sample - loss: 0.3331 - accuracy: 0.9004 - val_loss: 0.6013 - val_accuracy: 0.8357\n",
      "Epoch 97/100\n",
      "42000/42000 [==============================] - 3s 73us/sample - loss: 0.3301 - accuracy: 0.9000 - val_loss: 0.6164 - val_accuracy: 0.8329\n",
      "Epoch 98/100\n",
      "42000/42000 [==============================] - 3s 76us/sample - loss: 0.3221 - accuracy: 0.9048 - val_loss: 0.6327 - val_accuracy: 0.8301\n",
      "Epoch 99/100\n",
      "42000/42000 [==============================] - 3s 71us/sample - loss: 0.3262 - accuracy: 0.9042 - val_loss: 0.5951 - val_accuracy: 0.8391\n",
      "Epoch 100/100\n",
      "42000/42000 [==============================] - 3s 74us/sample - loss: 0.3234 - accuracy: 0.9031 - val_loss: 0.5970 - val_accuracy: 0.8389\n"
     ]
    },
    {
     "data": {
      "text/plain": [
       "<tensorflow.python.keras.callbacks.History at 0x1f01eba7248>"
      ]
     },
     "execution_count": 53,
     "metadata": {},
     "output_type": "execute_result"
    }
   ],
   "source": [
    "modela.fit(X_train, y_train1, validation_data=(X_test, y_test1),batch_size=300, epochs=100, verbose=1)"
   ]
  },
  {
   "cell_type": "code",
   "execution_count": 54,
   "metadata": {},
   "outputs": [
    {
     "name": "stdout",
     "output_type": "stream",
     "text": [
      "Accuracy of NN with adam optimiser & RELu on Validation data is  [0.5969658694399728, 0.8388889]\n"
     ]
    }
   ],
   "source": [
    "accuracy = modela.evaluate(X_test, y_test1, verbose=0)\n",
    "print(\"Accuracy of NN with adam optimiser & RELu on Validation data is \", accuracy)"
   ]
  },
  {
   "cell_type": "code",
   "execution_count": 55,
   "metadata": {},
   "outputs": [
    {
     "data": {
      "text/html": [
       "<div>\n",
       "<style scoped>\n",
       "    .dataframe tbody tr th:only-of-type {\n",
       "        vertical-align: middle;\n",
       "    }\n",
       "\n",
       "    .dataframe tbody tr th {\n",
       "        vertical-align: top;\n",
       "    }\n",
       "\n",
       "    .dataframe thead th {\n",
       "        text-align: right;\n",
       "    }\n",
       "</style>\n",
       "<table border=\"1\" class=\"dataframe\">\n",
       "  <thead>\n",
       "    <tr style=\"text-align: right;\">\n",
       "      <th></th>\n",
       "      <th>Method</th>\n",
       "      <th>Accuracy</th>\n",
       "    </tr>\n",
       "  </thead>\n",
       "  <tbody>\n",
       "    <tr>\n",
       "      <th>1</th>\n",
       "      <td>NN with Adam &amp; RELU</td>\n",
       "      <td>0.838889</td>\n",
       "    </tr>\n",
       "  </tbody>\n",
       "</table>\n",
       "</div>"
      ],
      "text/plain": [
       "                Method  Accuracy\n",
       "1  NN with Adam & RELU  0.838889"
      ]
     },
     "execution_count": 55,
     "metadata": {},
     "output_type": "execute_result"
    }
   ],
   "source": [
    "# All Accuracy of model need to compile for further analysis and conclusion\n",
    "accuracy_of_val = pd.DataFrame({'Method':['NN with Adam & RELU'], 'Accuracy': accuracy[1]},index={'1'})\n",
    "accuracy_of_val = accuracy_of_val[['Method', 'Accuracy']]\n",
    "accuracy_of_val"
   ]
  },
  {
   "cell_type": "markdown",
   "metadata": {},
   "source": [
    "Model performance improved after specified Learning Rate of Adam Optimiser."
   ]
  },
  {
   "cell_type": "markdown",
   "metadata": {},
   "source": [
    "### Step 4\n",
    "#### Optimizer: \"sgd\"  with Learning Rate: 0.001\n",
    "#### Activation Function: \"relu\""
   ]
  },
  {
   "cell_type": "code",
   "execution_count": 56,
   "metadata": {},
   "outputs": [],
   "source": [
    "# Initialize Sequential model\n",
    "model1 = tf.keras.models.Sequential()\n",
    "\n",
    "# Reshape data from 2D to 1D -> 32x32 to 1024\n",
    "model1.add(tf.keras.layers.Reshape((1024,),input_shape=(32,32,1)))"
   ]
  },
  {
   "cell_type": "code",
   "execution_count": 57,
   "metadata": {},
   "outputs": [],
   "source": [
    "#Input Layer\n",
    "model1.add(tf.keras.layers.Dense(512, activation='relu', name='Input'))\n",
    "\n",
    "# Hidden layers\n",
    "model1.add(tf.keras.layers.Dense(256, activation='relu', name='Layer_1'))\n",
    "model1.add(tf.keras.layers.Dense(128, activation='relu', name='Layer_2'))\n",
    "\n",
    "\n",
    "# Hidden layers\n",
    "model1.add(tf.keras.layers.Dense(64, activation='relu', name='Layer_3'))\n",
    "model1.add(tf.keras.layers.Dense(32, activation='relu', name='Layer_4'))\n",
    "\n",
    "\n",
    "#Output layer\n",
    "model1.add(tf.keras.layers.Dense(10, activation='softmax', name='Output'))"
   ]
  },
  {
   "cell_type": "code",
   "execution_count": 58,
   "metadata": {},
   "outputs": [
    {
     "name": "stdout",
     "output_type": "stream",
     "text": [
      "Model: \"sequential_3\"\n",
      "_________________________________________________________________\n",
      "Layer (type)                 Output Shape              Param #   \n",
      "=================================================================\n",
      "reshape_3 (Reshape)          (None, 1024)              0         \n",
      "_________________________________________________________________\n",
      "Input (Dense)                (None, 512)               524800    \n",
      "_________________________________________________________________\n",
      "Layer_1 (Dense)              (None, 256)               131328    \n",
      "_________________________________________________________________\n",
      "Layer_2 (Dense)              (None, 128)               32896     \n",
      "_________________________________________________________________\n",
      "Layer_3 (Dense)              (None, 64)                8256      \n",
      "_________________________________________________________________\n",
      "Layer_4 (Dense)              (None, 32)                2080      \n",
      "_________________________________________________________________\n",
      "Output (Dense)               (None, 10)                330       \n",
      "=================================================================\n",
      "Total params: 699,690\n",
      "Trainable params: 699,690\n",
      "Non-trainable params: 0\n",
      "_________________________________________________________________\n"
     ]
    }
   ],
   "source": [
    "model1.summary()"
   ]
  },
  {
   "cell_type": "code",
   "execution_count": 59,
   "metadata": {},
   "outputs": [],
   "source": [
    "#Compile the model\n",
    "model1.compile(optimizer=sgd_optimiser2, loss='categorical_crossentropy', metrics=['accuracy'])"
   ]
  },
  {
   "cell_type": "code",
   "execution_count": 60,
   "metadata": {},
   "outputs": [
    {
     "name": "stdout",
     "output_type": "stream",
     "text": [
      "Train on 42000 samples, validate on 18000 samples\n",
      "Epoch 1/100\n",
      "42000/42000 [==============================] - 3s 80us/sample - loss: 2.3087 - accuracy: 0.1036 - val_loss: 2.3084 - val_accuracy: 0.1062\n",
      "Epoch 2/100\n",
      "42000/42000 [==============================] - 3s 66us/sample - loss: 2.3078 - accuracy: 0.1053 - val_loss: 2.3076 - val_accuracy: 0.1083\n",
      "Epoch 3/100\n",
      "42000/42000 [==============================] - 3s 68us/sample - loss: 2.3070 - accuracy: 0.1066 - val_loss: 2.3069 - val_accuracy: 0.1089\n",
      "Epoch 4/100\n",
      "42000/42000 [==============================] - 3s 72us/sample - loss: 2.3064 - accuracy: 0.1072 - val_loss: 2.3064 - val_accuracy: 0.1101\n",
      "Epoch 5/100\n",
      "42000/42000 [==============================] - 3s 72us/sample - loss: 2.3058 - accuracy: 0.1084 - val_loss: 2.3058 - val_accuracy: 0.1108\n",
      "Epoch 6/100\n",
      "42000/42000 [==============================] - 3s 68us/sample - loss: 2.3052 - accuracy: 0.1084 - val_loss: 2.3053 - val_accuracy: 0.1112\n",
      "Epoch 7/100\n",
      "42000/42000 [==============================] - 3s 68us/sample - loss: 2.3047 - accuracy: 0.1090 - val_loss: 2.3049 - val_accuracy: 0.1111\n",
      "Epoch 8/100\n",
      "42000/42000 [==============================] - 3s 68us/sample - loss: 2.3042 - accuracy: 0.1093 - val_loss: 2.3045 - val_accuracy: 0.1108\n",
      "Epoch 9/100\n",
      "42000/42000 [==============================] - 3s 69us/sample - loss: 2.3038 - accuracy: 0.1098 - val_loss: 2.3041 - val_accuracy: 0.1105\n",
      "Epoch 10/100\n",
      "42000/42000 [==============================] - 3s 68us/sample - loss: 2.3033 - accuracy: 0.1093 - val_loss: 2.3037 - val_accuracy: 0.1104\n",
      "Epoch 11/100\n",
      "42000/42000 [==============================] - 3s 77us/sample - loss: 2.3029 - accuracy: 0.1091 - val_loss: 2.3034 - val_accuracy: 0.1102\n",
      "Epoch 12/100\n",
      "42000/42000 [==============================] - 3s 73us/sample - loss: 2.3026 - accuracy: 0.1090 - val_loss: 2.3031 - val_accuracy: 0.1101\n",
      "Epoch 13/100\n",
      "42000/42000 [==============================] - 3s 69us/sample - loss: 2.3022 - accuracy: 0.1091 - val_loss: 2.3028 - val_accuracy: 0.1103\n",
      "Epoch 14/100\n",
      "42000/42000 [==============================] - 3s 70us/sample - loss: 2.3019 - accuracy: 0.1095 - val_loss: 2.3026 - val_accuracy: 0.1111\n",
      "Epoch 15/100\n",
      "42000/42000 [==============================] - 3s 68us/sample - loss: 2.3017 - accuracy: 0.1095 - val_loss: 2.3024 - val_accuracy: 0.1106\n",
      "Epoch 16/100\n",
      "42000/42000 [==============================] - 3s 69us/sample - loss: 2.3014 - accuracy: 0.1096 - val_loss: 2.3021 - val_accuracy: 0.1104\n",
      "Epoch 17/100\n",
      "42000/42000 [==============================] - 3s 69us/sample - loss: 2.3012 - accuracy: 0.1102 - val_loss: 2.3019 - val_accuracy: 0.1101\n",
      "Epoch 18/100\n",
      "42000/42000 [==============================] - 3s 69us/sample - loss: 2.3009 - accuracy: 0.1099 - val_loss: 2.3017 - val_accuracy: 0.1104\n",
      "Epoch 19/100\n",
      "42000/42000 [==============================] - 3s 69us/sample - loss: 2.3007 - accuracy: 0.1098 - val_loss: 2.3016 - val_accuracy: 0.1099\n",
      "Epoch 20/100\n",
      "42000/42000 [==============================] - 3s 69us/sample - loss: 2.3005 - accuracy: 0.1102 - val_loss: 2.3014 - val_accuracy: 0.1097\n",
      "Epoch 21/100\n",
      "42000/42000 [==============================] - 3s 69us/sample - loss: 2.3003 - accuracy: 0.1102 - val_loss: 2.3012 - val_accuracy: 0.1098\n",
      "Epoch 22/100\n",
      "42000/42000 [==============================] - 3s 79us/sample - loss: 2.3001 - accuracy: 0.1102 - val_loss: 2.3011 - val_accuracy: 0.1102\n",
      "Epoch 23/100\n",
      "42000/42000 [==============================] - 3s 69us/sample - loss: 2.2999 - accuracy: 0.1102 - val_loss: 2.3009 - val_accuracy: 0.1106\n",
      "Epoch 24/100\n",
      "42000/42000 [==============================] - 3s 69us/sample - loss: 2.2998 - accuracy: 0.1101 - val_loss: 2.3008 - val_accuracy: 0.1098\n",
      "Epoch 25/100\n",
      "42000/42000 [==============================] - 3s 69us/sample - loss: 2.2996 - accuracy: 0.1100 - val_loss: 2.3006 - val_accuracy: 0.1093\n",
      "Epoch 26/100\n",
      "42000/42000 [==============================] - 3s 78us/sample - loss: 2.2994 - accuracy: 0.1093 - val_loss: 2.3005 - val_accuracy: 0.1100\n",
      "Epoch 27/100\n",
      "42000/42000 [==============================] - 3s 69us/sample - loss: 2.2993 - accuracy: 0.1085 - val_loss: 2.3004 - val_accuracy: 0.1097\n",
      "Epoch 28/100\n",
      "42000/42000 [==============================] - 3s 69us/sample - loss: 2.2992 - accuracy: 0.1086 - val_loss: 2.3002 - val_accuracy: 0.1094\n",
      "Epoch 29/100\n",
      "42000/42000 [==============================] - 3s 69us/sample - loss: 2.2990 - accuracy: 0.1086 - val_loss: 2.3001 - val_accuracy: 0.1091\n",
      "Epoch 30/100\n",
      "42000/42000 [==============================] - 3s 69us/sample - loss: 2.2989 - accuracy: 0.1098 - val_loss: 2.3000 - val_accuracy: 0.1098\n",
      "Epoch 31/100\n",
      "42000/42000 [==============================] - 3s 69us/sample - loss: 2.2988 - accuracy: 0.1098 - val_loss: 2.2999 - val_accuracy: 0.1100\n",
      "Epoch 32/100\n",
      "42000/42000 [==============================] - 3s 68us/sample - loss: 2.2986 - accuracy: 0.1099 - val_loss: 2.2998 - val_accuracy: 0.1103\n",
      "Epoch 33/100\n",
      "42000/42000 [==============================] - 3s 70us/sample - loss: 2.2985 - accuracy: 0.1105 - val_loss: 2.2996 - val_accuracy: 0.1108\n",
      "Epoch 34/100\n",
      "42000/42000 [==============================] - 3s 79us/sample - loss: 2.2984 - accuracy: 0.1113 - val_loss: 2.2995 - val_accuracy: 0.1107\n",
      "Epoch 35/100\n",
      "42000/42000 [==============================] - 3s 69us/sample - loss: 2.2982 - accuracy: 0.1116 - val_loss: 2.2994 - val_accuracy: 0.1109\n",
      "Epoch 36/100\n",
      "42000/42000 [==============================] - 3s 70us/sample - loss: 2.2981 - accuracy: 0.1120 - val_loss: 2.2993 - val_accuracy: 0.1106\n",
      "Epoch 37/100\n",
      "42000/42000 [==============================] - 3s 69us/sample - loss: 2.2980 - accuracy: 0.1117 - val_loss: 2.2992 - val_accuracy: 0.1099\n",
      "Epoch 38/100\n",
      "42000/42000 [==============================] - 3s 70us/sample - loss: 2.2979 - accuracy: 0.1115 - val_loss: 2.2991 - val_accuracy: 0.1099\n",
      "Epoch 39/100\n",
      "42000/42000 [==============================] - 3s 70us/sample - loss: 2.2978 - accuracy: 0.1119 - val_loss: 2.2990 - val_accuracy: 0.1093\n",
      "Epoch 40/100\n",
      "42000/42000 [==============================] - 3s 70us/sample - loss: 2.2976 - accuracy: 0.1115 - val_loss: 2.2989 - val_accuracy: 0.1085\n",
      "Epoch 41/100\n",
      "42000/42000 [==============================] - 3s 70us/sample - loss: 2.2975 - accuracy: 0.1118 - val_loss: 2.2988 - val_accuracy: 0.1081\n",
      "Epoch 42/100\n",
      "42000/42000 [==============================] - 3s 69us/sample - loss: 2.2974 - accuracy: 0.1118 - val_loss: 2.2986 - val_accuracy: 0.1081\n",
      "Epoch 43/100\n",
      "42000/42000 [==============================] - 3s 70us/sample - loss: 2.2973 - accuracy: 0.1119 - val_loss: 2.2985 - val_accuracy: 0.1084\n",
      "Epoch 44/100\n",
      "42000/42000 [==============================] - 3s 70us/sample - loss: 2.2972 - accuracy: 0.1119 - val_loss: 2.2984 - val_accuracy: 0.1080\n",
      "Epoch 45/100\n",
      "42000/42000 [==============================] - 3s 70us/sample - loss: 2.2971 - accuracy: 0.1121 - val_loss: 2.2983 - val_accuracy: 0.1081\n",
      "Epoch 46/100\n",
      "42000/42000 [==============================] - 3s 71us/sample - loss: 2.2969 - accuracy: 0.1121 - val_loss: 2.2982 - val_accuracy: 0.1074\n",
      "Epoch 47/100\n",
      "42000/42000 [==============================] - 3s 70us/sample - loss: 2.2968 - accuracy: 0.1119 - val_loss: 2.2981 - val_accuracy: 0.1075\n",
      "Epoch 48/100\n",
      "42000/42000 [==============================] - 3s 79us/sample - loss: 2.2967 - accuracy: 0.1116 - val_loss: 2.2980 - val_accuracy: 0.1076\n",
      "Epoch 49/100\n",
      "42000/42000 [==============================] - 3s 70us/sample - loss: 2.2966 - accuracy: 0.1116 - val_loss: 2.2979 - val_accuracy: 0.1078\n",
      "Epoch 50/100\n",
      "42000/42000 [==============================] - 3s 70us/sample - loss: 2.2965 - accuracy: 0.1115 - val_loss: 2.2978 - val_accuracy: 0.1079\n",
      "Epoch 51/100\n",
      "42000/42000 [==============================] - 3s 71us/sample - loss: 2.2964 - accuracy: 0.1118 - val_loss: 2.2977 - val_accuracy: 0.1075\n",
      "Epoch 52/100\n",
      "42000/42000 [==============================] - 3s 70us/sample - loss: 2.2963 - accuracy: 0.1118 - val_loss: 2.2976 - val_accuracy: 0.1077\n",
      "Epoch 53/100\n",
      "42000/42000 [==============================] - 3s 71us/sample - loss: 2.2962 - accuracy: 0.1117 - val_loss: 2.2975 - val_accuracy: 0.1076\n",
      "Epoch 54/100\n",
      "42000/42000 [==============================] - 3s 71us/sample - loss: 2.2961 - accuracy: 0.1117 - val_loss: 2.2974 - val_accuracy: 0.1077\n"
     ]
    },
    {
     "name": "stdout",
     "output_type": "stream",
     "text": [
      "Epoch 55/100\n",
      "42000/42000 [==============================] - 3s 66us/sample - loss: 2.2960 - accuracy: 0.1118 - val_loss: 2.2973 - val_accuracy: 0.1073\n",
      "Epoch 56/100\n",
      "42000/42000 [==============================] - 3s 65us/sample - loss: 2.2959 - accuracy: 0.1119 - val_loss: 2.2972 - val_accuracy: 0.1071\n",
      "Epoch 57/100\n",
      "42000/42000 [==============================] - 3s 66us/sample - loss: 2.2958 - accuracy: 0.1116 - val_loss: 2.2971 - val_accuracy: 0.1074\n",
      "Epoch 58/100\n",
      "42000/42000 [==============================] - 3s 65us/sample - loss: 2.2957 - accuracy: 0.1120 - val_loss: 2.2970 - val_accuracy: 0.1076\n",
      "Epoch 59/100\n",
      "42000/42000 [==============================] - 3s 64us/sample - loss: 2.2955 - accuracy: 0.1120 - val_loss: 2.2969 - val_accuracy: 0.1075\n",
      "Epoch 60/100\n",
      "42000/42000 [==============================] - 3s 64us/sample - loss: 2.2954 - accuracy: 0.1115 - val_loss: 2.2968 - val_accuracy: 0.1071\n",
      "Epoch 61/100\n",
      "42000/42000 [==============================] - 3s 66us/sample - loss: 2.2953 - accuracy: 0.1114 - val_loss: 2.2967 - val_accuracy: 0.1071\n",
      "Epoch 62/100\n",
      "42000/42000 [==============================] - 3s 65us/sample - loss: 2.2952 - accuracy: 0.1114 - val_loss: 2.2966 - val_accuracy: 0.1071\n",
      "Epoch 63/100\n",
      "42000/42000 [==============================] - 3s 65us/sample - loss: 2.2951 - accuracy: 0.1113 - val_loss: 2.2965 - val_accuracy: 0.1073\n",
      "Epoch 64/100\n",
      "42000/42000 [==============================] - 3s 65us/sample - loss: 2.2950 - accuracy: 0.1115 - val_loss: 2.2964 - val_accuracy: 0.1072\n",
      "Epoch 65/100\n",
      "42000/42000 [==============================] - 3s 65us/sample - loss: 2.2949 - accuracy: 0.1113 - val_loss: 2.2963 - val_accuracy: 0.1073\n",
      "Epoch 66/100\n",
      "42000/42000 [==============================] - 3s 65us/sample - loss: 2.2948 - accuracy: 0.1118 - val_loss: 2.2962 - val_accuracy: 0.1072\n",
      "Epoch 67/100\n",
      "42000/42000 [==============================] - 3s 65us/sample - loss: 2.2947 - accuracy: 0.1117 - val_loss: 2.2961 - val_accuracy: 0.1073\n",
      "Epoch 68/100\n",
      "42000/42000 [==============================] - 3s 65us/sample - loss: 2.2946 - accuracy: 0.1121 - val_loss: 2.2960 - val_accuracy: 0.1073\n",
      "Epoch 69/100\n",
      "42000/42000 [==============================] - 3s 65us/sample - loss: 2.2945 - accuracy: 0.1118 - val_loss: 2.2959 - val_accuracy: 0.1072\n",
      "Epoch 70/100\n",
      "42000/42000 [==============================] - 3s 69us/sample - loss: 2.2944 - accuracy: 0.1123 - val_loss: 2.2958 - val_accuracy: 0.1072\n",
      "Epoch 71/100\n",
      "42000/42000 [==============================] - 3s 67us/sample - loss: 2.2944 - accuracy: 0.1123 - val_loss: 2.2957 - val_accuracy: 0.1071\n",
      "Epoch 72/100\n",
      "42000/42000 [==============================] - 3s 67us/sample - loss: 2.2943 - accuracy: 0.1122 - val_loss: 2.2956 - val_accuracy: 0.1073\n",
      "Epoch 73/100\n",
      "42000/42000 [==============================] - 3s 66us/sample - loss: 2.2942 - accuracy: 0.1124 - val_loss: 2.2955 - val_accuracy: 0.1074\n",
      "Epoch 74/100\n",
      "42000/42000 [==============================] - 3s 65us/sample - loss: 2.2941 - accuracy: 0.1123 - val_loss: 2.2955 - val_accuracy: 0.1080\n",
      "Epoch 75/100\n",
      "42000/42000 [==============================] - 3s 65us/sample - loss: 2.2940 - accuracy: 0.1128 - val_loss: 2.2954 - val_accuracy: 0.1082\n",
      "Epoch 76/100\n",
      "42000/42000 [==============================] - 3s 65us/sample - loss: 2.2939 - accuracy: 0.1126 - val_loss: 2.2953 - val_accuracy: 0.1082\n",
      "Epoch 77/100\n",
      "42000/42000 [==============================] - 3s 72us/sample - loss: 2.2938 - accuracy: 0.1127 - val_loss: 2.2952 - val_accuracy: 0.1085\n",
      "Epoch 78/100\n",
      "42000/42000 [==============================] - 4s 85us/sample - loss: 2.2937 - accuracy: 0.1127 - val_loss: 2.2951 - val_accuracy: 0.1087\n",
      "Epoch 79/100\n",
      "42000/42000 [==============================] - 3s 79us/sample - loss: 2.2936 - accuracy: 0.1127 - val_loss: 2.2950 - val_accuracy: 0.1087\n",
      "Epoch 80/100\n",
      "42000/42000 [==============================] - 3s 73us/sample - loss: 2.2935 - accuracy: 0.1131 - val_loss: 2.2949 - val_accuracy: 0.1088\n",
      "Epoch 81/100\n",
      "42000/42000 [==============================] - 3s 72us/sample - loss: 2.2934 - accuracy: 0.1134 - val_loss: 2.2948 - val_accuracy: 0.1089\n",
      "Epoch 82/100\n",
      "42000/42000 [==============================] - 3s 72us/sample - loss: 2.2933 - accuracy: 0.1137 - val_loss: 2.2947 - val_accuracy: 0.1095\n",
      "Epoch 83/100\n",
      "42000/42000 [==============================] - 3s 78us/sample - loss: 2.2932 - accuracy: 0.1135 - val_loss: 2.2946 - val_accuracy: 0.1099\n",
      "Epoch 84/100\n",
      "42000/42000 [==============================] - 3s 77us/sample - loss: 2.2931 - accuracy: 0.1138 - val_loss: 2.2945 - val_accuracy: 0.1103\n",
      "Epoch 85/100\n",
      "42000/42000 [==============================] - 3s 75us/sample - loss: 2.2930 - accuracy: 0.1139 - val_loss: 2.2944 - val_accuracy: 0.1104\n",
      "Epoch 86/100\n",
      "42000/42000 [==============================] - 3s 77us/sample - loss: 2.2929 - accuracy: 0.1141 - val_loss: 2.2943 - val_accuracy: 0.1104\n",
      "Epoch 87/100\n",
      "42000/42000 [==============================] - 3s 78us/sample - loss: 2.2928 - accuracy: 0.1144 - val_loss: 2.2942 - val_accuracy: 0.1107\n",
      "Epoch 88/100\n",
      "42000/42000 [==============================] - 3s 79us/sample - loss: 2.2927 - accuracy: 0.1147 - val_loss: 2.2941 - val_accuracy: 0.1108\n",
      "Epoch 89/100\n",
      "42000/42000 [==============================] - 3s 80us/sample - loss: 2.2926 - accuracy: 0.1145 - val_loss: 2.2940 - val_accuracy: 0.1110\n",
      "Epoch 90/100\n",
      "42000/42000 [==============================] - 3s 79us/sample - loss: 2.2925 - accuracy: 0.1148 - val_loss: 2.2939 - val_accuracy: 0.1112\n",
      "Epoch 91/100\n",
      "42000/42000 [==============================] - 3s 75us/sample - loss: 2.2924 - accuracy: 0.1147 - val_loss: 2.2938 - val_accuracy: 0.1116\n",
      "Epoch 92/100\n",
      "42000/42000 [==============================] - 3s 74us/sample - loss: 2.2923 - accuracy: 0.1148 - val_loss: 2.2937 - val_accuracy: 0.1118\n",
      "Epoch 93/100\n",
      "42000/42000 [==============================] - 3s 73us/sample - loss: 2.2923 - accuracy: 0.1150 - val_loss: 2.2936 - val_accuracy: 0.1122\n",
      "Epoch 94/100\n",
      "42000/42000 [==============================] - 3s 77us/sample - loss: 2.2922 - accuracy: 0.1152 - val_loss: 2.2935 - val_accuracy: 0.1124\n",
      "Epoch 95/100\n",
      "42000/42000 [==============================] - 3s 73us/sample - loss: 2.2921 - accuracy: 0.1153 - val_loss: 2.2934 - val_accuracy: 0.1124\n",
      "Epoch 96/100\n",
      "42000/42000 [==============================] - 3s 68us/sample - loss: 2.2920 - accuracy: 0.1159 - val_loss: 2.2933 - val_accuracy: 0.1128\n",
      "Epoch 97/100\n",
      "42000/42000 [==============================] - 3s 67us/sample - loss: 2.2919 - accuracy: 0.1163 - val_loss: 2.2933 - val_accuracy: 0.1128\n",
      "Epoch 98/100\n",
      "42000/42000 [==============================] - 3s 66us/sample - loss: 2.2918 - accuracy: 0.1167 - val_loss: 2.2932 - val_accuracy: 0.1130\n",
      "Epoch 99/100\n",
      "42000/42000 [==============================] - 3s 66us/sample - loss: 2.2917 - accuracy: 0.1167 - val_loss: 2.2931 - val_accuracy: 0.1132\n",
      "Epoch 100/100\n",
      "42000/42000 [==============================] - 3s 66us/sample - loss: 2.2916 - accuracy: 0.1171 - val_loss: 2.2930 - val_accuracy: 0.1134\n"
     ]
    },
    {
     "data": {
      "text/plain": [
       "<tensorflow.python.keras.callbacks.History at 0x1f026404308>"
      ]
     },
     "execution_count": 60,
     "metadata": {},
     "output_type": "execute_result"
    }
   ],
   "source": [
    "model1.fit(X_train, y_train1, validation_data=(X_test, y_test1),batch_size=300 ,epochs=100, verbose=1 )"
   ]
  },
  {
   "cell_type": "code",
   "execution_count": 61,
   "metadata": {},
   "outputs": [
    {
     "name": "stdout",
     "output_type": "stream",
     "text": [
      "Accuracy of NN with SGD Optimiser & RELU on Validation data is  [2.292964732699924, 0.11344445]\n"
     ]
    }
   ],
   "source": [
    "accuracy1 = model1.evaluate(X_test, y_test1, verbose=0)\n",
    "print(\"Accuracy of NN with SGD Optimiser & RELU on Validation data is \", accuracy1)"
   ]
  },
  {
   "cell_type": "code",
   "execution_count": 62,
   "metadata": {},
   "outputs": [
    {
     "data": {
      "text/html": [
       "<div>\n",
       "<style scoped>\n",
       "    .dataframe tbody tr th:only-of-type {\n",
       "        vertical-align: middle;\n",
       "    }\n",
       "\n",
       "    .dataframe tbody tr th {\n",
       "        vertical-align: top;\n",
       "    }\n",
       "\n",
       "    .dataframe thead th {\n",
       "        text-align: right;\n",
       "    }\n",
       "</style>\n",
       "<table border=\"1\" class=\"dataframe\">\n",
       "  <thead>\n",
       "    <tr style=\"text-align: right;\">\n",
       "      <th></th>\n",
       "      <th>Method</th>\n",
       "      <th>Accuracy</th>\n",
       "    </tr>\n",
       "  </thead>\n",
       "  <tbody>\n",
       "    <tr>\n",
       "      <th>1</th>\n",
       "      <td>NN with Adam &amp; RELU</td>\n",
       "      <td>0.838889</td>\n",
       "    </tr>\n",
       "    <tr>\n",
       "      <th>2</th>\n",
       "      <td>NN with SGD &amp; RELU</td>\n",
       "      <td>0.113444</td>\n",
       "    </tr>\n",
       "  </tbody>\n",
       "</table>\n",
       "</div>"
      ],
      "text/plain": [
       "                Method  Accuracy\n",
       "1  NN with Adam & RELU  0.838889\n",
       "2   NN with SGD & RELU  0.113444"
      ]
     },
     "execution_count": 62,
     "metadata": {},
     "output_type": "execute_result"
    }
   ],
   "source": [
    "# All Accuracy of model need to compile for further analysis and conclusion\n",
    "accuracy_of_val1 = pd.DataFrame({'Method':['NN with SGD & RELU'], 'Accuracy': accuracy1[1]},index={'2'})\n",
    "accuracy_of_val =pd.concat([accuracy_of_val,accuracy_of_val1])\n",
    "accuracy_of_val = accuracy_of_val[['Method', 'Accuracy']]\n",
    "accuracy_of_val"
   ]
  },
  {
   "cell_type": "markdown",
   "metadata": {},
   "source": [
    "Performance of Model with SGD optimiser doesnot have  accuracy at par with Adam optimiser."
   ]
  },
  {
   "cell_type": "markdown",
   "metadata": {},
   "source": [
    "Step 3\n",
    "#### Optimizer: \"adam\"  with Learning Rate: 0.0001\n",
    "#### Activation Function: \"sigmoid\""
   ]
  },
  {
   "cell_type": "code",
   "execution_count": 63,
   "metadata": {},
   "outputs": [],
   "source": [
    "# Initialize Sequential model\n",
    "model2 = tf.keras.models.Sequential()\n",
    "\n",
    "# Reshape data from 2D to 1D -> 32x32 to 1024\n",
    "model2.add(tf.keras.layers.Reshape((1024,),input_shape=(32,32,1)))"
   ]
  },
  {
   "cell_type": "code",
   "execution_count": 64,
   "metadata": {},
   "outputs": [],
   "source": [
    "#Input Layer\n",
    "model2.add(tf.keras.layers.Dense(512, activation='sigmoid', name='Input'))\n",
    "\n",
    "# Hidden layers\n",
    "model2.add(tf.keras.layers.Dense(256, activation='sigmoid', name='Layer_1'))\n",
    "model2.add(tf.keras.layers.Dense(128, activation='sigmoid', name='Layer_2'))\n",
    "\n",
    "\n",
    "# Hidden layers\n",
    "model2.add(tf.keras.layers.Dense(64, activation='sigmoid', name='Layer_3'))\n",
    "model2.add(tf.keras.layers.Dense(32, activation='sigmoid', name='Layer_4'))\n",
    "\n",
    "\n",
    "#Output layer\n",
    "model2.add(tf.keras.layers.Dense(10, activation='softmax', name='Output'))"
   ]
  },
  {
   "cell_type": "code",
   "execution_count": 65,
   "metadata": {},
   "outputs": [
    {
     "name": "stdout",
     "output_type": "stream",
     "text": [
      "Model: \"sequential_4\"\n",
      "_________________________________________________________________\n",
      "Layer (type)                 Output Shape              Param #   \n",
      "=================================================================\n",
      "reshape_4 (Reshape)          (None, 1024)              0         \n",
      "_________________________________________________________________\n",
      "Input (Dense)                (None, 512)               524800    \n",
      "_________________________________________________________________\n",
      "Layer_1 (Dense)              (None, 256)               131328    \n",
      "_________________________________________________________________\n",
      "Layer_2 (Dense)              (None, 128)               32896     \n",
      "_________________________________________________________________\n",
      "Layer_3 (Dense)              (None, 64)                8256      \n",
      "_________________________________________________________________\n",
      "Layer_4 (Dense)              (None, 32)                2080      \n",
      "_________________________________________________________________\n",
      "Output (Dense)               (None, 10)                330       \n",
      "=================================================================\n",
      "Total params: 699,690\n",
      "Trainable params: 699,690\n",
      "Non-trainable params: 0\n",
      "_________________________________________________________________\n"
     ]
    }
   ],
   "source": [
    "model2.summary()"
   ]
  },
  {
   "cell_type": "code",
   "execution_count": 66,
   "metadata": {},
   "outputs": [],
   "source": [
    "#Compile the model\n",
    "model2.compile(optimizer=adam_optimiser2, loss='categorical_crossentropy', metrics=['accuracy'])"
   ]
  },
  {
   "cell_type": "code",
   "execution_count": 67,
   "metadata": {},
   "outputs": [
    {
     "name": "stdout",
     "output_type": "stream",
     "text": [
      "Train on 42000 samples, validate on 18000 samples\n",
      "Epoch 1/100\n",
      "42000/42000 [==============================] - 4s 85us/sample - loss: 2.3114 - accuracy: 0.1006 - val_loss: 2.3030 - val_accuracy: 0.0955\n",
      "Epoch 2/100\n",
      "42000/42000 [==============================] - 3s 74us/sample - loss: 2.3030 - accuracy: 0.0984 - val_loss: 2.3028 - val_accuracy: 0.0982\n",
      "Epoch 3/100\n",
      "42000/42000 [==============================] - 3s 77us/sample - loss: 2.3029 - accuracy: 0.0991 - val_loss: 2.3027 - val_accuracy: 0.1008\n",
      "Epoch 4/100\n",
      "42000/42000 [==============================] - 3s 73us/sample - loss: 2.3029 - accuracy: 0.0997 - val_loss: 2.3029 - val_accuracy: 0.0955\n",
      "Epoch 5/100\n",
      "42000/42000 [==============================] - 3s 74us/sample - loss: 2.3029 - accuracy: 0.0988 - val_loss: 2.3028 - val_accuracy: 0.1002\n",
      "Epoch 6/100\n",
      "42000/42000 [==============================] - 3s 72us/sample - loss: 2.3028 - accuracy: 0.0983 - val_loss: 2.3027 - val_accuracy: 0.1016\n",
      "Epoch 7/100\n",
      "42000/42000 [==============================] - 3s 72us/sample - loss: 2.3028 - accuracy: 0.0985 - val_loss: 2.3029 - val_accuracy: 0.0955\n",
      "Epoch 8/100\n",
      "42000/42000 [==============================] - 3s 72us/sample - loss: 2.3027 - accuracy: 0.1014 - val_loss: 2.3027 - val_accuracy: 0.0982\n",
      "Epoch 9/100\n",
      "42000/42000 [==============================] - 3s 71us/sample - loss: 2.3028 - accuracy: 0.0981 - val_loss: 2.3025 - val_accuracy: 0.0982\n",
      "Epoch 10/100\n",
      "42000/42000 [==============================] - 3s 72us/sample - loss: 2.3025 - accuracy: 0.0993 - val_loss: 2.3023 - val_accuracy: 0.0955\n",
      "Epoch 11/100\n",
      "42000/42000 [==============================] - 3s 73us/sample - loss: 2.3017 - accuracy: 0.1047 - val_loss: 2.3004 - val_accuracy: 0.1178\n",
      "Epoch 12/100\n",
      "42000/42000 [==============================] - 4s 85us/sample - loss: 2.2953 - accuracy: 0.1221 - val_loss: 2.2863 - val_accuracy: 0.1308\n",
      "Epoch 13/100\n",
      "42000/42000 [==============================] - 3s 74us/sample - loss: 2.2740 - accuracy: 0.1303 - val_loss: 2.2615 - val_accuracy: 0.1427\n",
      "Epoch 14/100\n",
      "42000/42000 [==============================] - 3s 73us/sample - loss: 2.2491 - accuracy: 0.1348 - val_loss: 2.2336 - val_accuracy: 0.1478\n",
      "Epoch 15/100\n",
      "42000/42000 [==============================] - 3s 72us/sample - loss: 2.2077 - accuracy: 0.1760 - val_loss: 2.1751 - val_accuracy: 0.1752\n",
      "Epoch 16/100\n",
      "42000/42000 [==============================] - 3s 73us/sample - loss: 2.1481 - accuracy: 0.1824 - val_loss: 2.1197 - val_accuracy: 0.1939\n",
      "Epoch 17/100\n",
      "42000/42000 [==============================] - 3s 72us/sample - loss: 2.1046 - accuracy: 0.2000 - val_loss: 2.0826 - val_accuracy: 0.2018\n",
      "Epoch 18/100\n",
      "42000/42000 [==============================] - 3s 71us/sample - loss: 2.0698 - accuracy: 0.2109 - val_loss: 2.0490 - val_accuracy: 0.2194\n",
      "Epoch 19/100\n",
      "42000/42000 [==============================] - 3s 72us/sample - loss: 2.0369 - accuracy: 0.2324 - val_loss: 2.0201 - val_accuracy: 0.2442\n",
      "Epoch 20/100\n",
      "42000/42000 [==============================] - 3s 73us/sample - loss: 2.0004 - accuracy: 0.2537 - val_loss: 1.9795 - val_accuracy: 0.2678\n",
      "Epoch 21/100\n",
      "42000/42000 [==============================] - 3s 72us/sample - loss: 1.9532 - accuracy: 0.2741 - val_loss: 1.9237 - val_accuracy: 0.2926\n",
      "Epoch 22/100\n",
      "42000/42000 [==============================] - 3s 72us/sample - loss: 1.8991 - accuracy: 0.2964 - val_loss: 1.8729 - val_accuracy: 0.3145\n",
      "Epoch 23/100\n",
      "42000/42000 [==============================] - 3s 72us/sample - loss: 1.8558 - accuracy: 0.3113 - val_loss: 1.8343 - val_accuracy: 0.3263\n",
      "Epoch 24/100\n",
      "42000/42000 [==============================] - 3s 73us/sample - loss: 1.8221 - accuracy: 0.3253 - val_loss: 1.8087 - val_accuracy: 0.3322\n",
      "Epoch 25/100\n",
      "42000/42000 [==============================] - 3s 72us/sample - loss: 1.7977 - accuracy: 0.3358 - val_loss: 1.7865 - val_accuracy: 0.3364\n",
      "Epoch 26/100\n",
      "42000/42000 [==============================] - 3s 72us/sample - loss: 1.7796 - accuracy: 0.3463 - val_loss: 1.7636 - val_accuracy: 0.3596\n",
      "Epoch 27/100\n",
      "42000/42000 [==============================] - 3s 72us/sample - loss: 1.7647 - accuracy: 0.3542 - val_loss: 1.7530 - val_accuracy: 0.3639\n",
      "Epoch 28/100\n",
      "42000/42000 [==============================] - 3s 72us/sample - loss: 1.7498 - accuracy: 0.3613 - val_loss: 1.7391 - val_accuracy: 0.3689\n",
      "Epoch 29/100\n",
      "42000/42000 [==============================] - 3s 81us/sample - loss: 1.7384 - accuracy: 0.3663 - val_loss: 1.7334 - val_accuracy: 0.3736\n",
      "Epoch 30/100\n",
      "42000/42000 [==============================] - 3s 74us/sample - loss: 1.7268 - accuracy: 0.3699 - val_loss: 1.7243 - val_accuracy: 0.3726\n",
      "Epoch 31/100\n",
      "42000/42000 [==============================] - 3s 73us/sample - loss: 1.7176 - accuracy: 0.3732 - val_loss: 1.7112 - val_accuracy: 0.3792\n",
      "Epoch 32/100\n",
      "42000/42000 [==============================] - 3s 72us/sample - loss: 1.7077 - accuracy: 0.3756 - val_loss: 1.7042 - val_accuracy: 0.3744\n",
      "Epoch 33/100\n",
      "42000/42000 [==============================] - 3s 82us/sample - loss: 1.7007 - accuracy: 0.3792 - val_loss: 1.6909 - val_accuracy: 0.3839\n",
      "Epoch 34/100\n",
      "42000/42000 [==============================] - 3s 74us/sample - loss: 1.6936 - accuracy: 0.3787 - val_loss: 1.6955 - val_accuracy: 0.3777\n",
      "Epoch 35/100\n",
      "42000/42000 [==============================] - 3s 72us/sample - loss: 1.6849 - accuracy: 0.3841 - val_loss: 1.6753 - val_accuracy: 0.3864\n",
      "Epoch 36/100\n",
      "42000/42000 [==============================] - 3s 72us/sample - loss: 1.6773 - accuracy: 0.3866 - val_loss: 1.6698 - val_accuracy: 0.3891\n",
      "Epoch 37/100\n",
      "42000/42000 [==============================] - 3s 72us/sample - loss: 1.6705 - accuracy: 0.3864 - val_loss: 1.6599 - val_accuracy: 0.3938\n",
      "Epoch 38/100\n",
      "42000/42000 [==============================] - 3s 72us/sample - loss: 1.6637 - accuracy: 0.3914 - val_loss: 1.6591 - val_accuracy: 0.3937\n",
      "Epoch 39/100\n",
      "42000/42000 [==============================] - 3s 72us/sample - loss: 1.6569 - accuracy: 0.3899 - val_loss: 1.6467 - val_accuracy: 0.3999\n",
      "Epoch 40/100\n",
      "42000/42000 [==============================] - 3s 79us/sample - loss: 1.6495 - accuracy: 0.3955 - val_loss: 1.6429 - val_accuracy: 0.3977\n",
      "Epoch 41/100\n",
      "42000/42000 [==============================] - 3s 74us/sample - loss: 1.6448 - accuracy: 0.3955 - val_loss: 1.6404 - val_accuracy: 0.3977\n",
      "Epoch 42/100\n",
      "42000/42000 [==============================] - 3s 72us/sample - loss: 1.6378 - accuracy: 0.3978 - val_loss: 1.6296 - val_accuracy: 0.4035\n",
      "Epoch 43/100\n",
      "42000/42000 [==============================] - 3s 73us/sample - loss: 1.6314 - accuracy: 0.4019 - val_loss: 1.6223 - val_accuracy: 0.4073\n",
      "Epoch 44/100\n",
      "42000/42000 [==============================] - 3s 72us/sample - loss: 1.6265 - accuracy: 0.4031 - val_loss: 1.6174 - val_accuracy: 0.4079\n",
      "Epoch 45/100\n",
      "42000/42000 [==============================] - 3s 73us/sample - loss: 1.6200 - accuracy: 0.4039 - val_loss: 1.6129 - val_accuracy: 0.4098\n",
      "Epoch 46/100\n",
      "42000/42000 [==============================] - 3s 72us/sample - loss: 1.6131 - accuracy: 0.4078 - val_loss: 1.6062 - val_accuracy: 0.4109\n",
      "Epoch 47/100\n",
      "42000/42000 [==============================] - 3s 72us/sample - loss: 1.6075 - accuracy: 0.4102 - val_loss: 1.6044 - val_accuracy: 0.4147\n",
      "Epoch 48/100\n",
      "42000/42000 [==============================] - 3s 72us/sample - loss: 1.6039 - accuracy: 0.4122 - val_loss: 1.5938 - val_accuracy: 0.4158\n",
      "Epoch 49/100\n",
      "42000/42000 [==============================] - 3s 73us/sample - loss: 1.5967 - accuracy: 0.4152 - val_loss: 1.5951 - val_accuracy: 0.4150\n",
      "Epoch 50/100\n",
      "42000/42000 [==============================] - 3s 72us/sample - loss: 1.5927 - accuracy: 0.4167 - val_loss: 1.5897 - val_accuracy: 0.4167\n",
      "Epoch 51/100\n",
      "42000/42000 [==============================] - 3s 72us/sample - loss: 1.5893 - accuracy: 0.4194 - val_loss: 1.5941 - val_accuracy: 0.4172\n",
      "Epoch 52/100\n",
      "42000/42000 [==============================] - 3s 72us/sample - loss: 1.5804 - accuracy: 0.4228 - val_loss: 1.5753 - val_accuracy: 0.4226\n",
      "Epoch 53/100\n",
      "42000/42000 [==============================] - 3s 73us/sample - loss: 1.5779 - accuracy: 0.4224 - val_loss: 1.5731 - val_accuracy: 0.4220\n",
      "Epoch 54/100\n",
      "42000/42000 [==============================] - 3s 83us/sample - loss: 1.5721 - accuracy: 0.4252 - val_loss: 1.5701 - val_accuracy: 0.4282\n"
     ]
    },
    {
     "name": "stdout",
     "output_type": "stream",
     "text": [
      "Epoch 55/100\n",
      "42000/42000 [==============================] - 3s 72us/sample - loss: 1.5663 - accuracy: 0.4289 - val_loss: 1.5612 - val_accuracy: 0.4292\n",
      "Epoch 56/100\n",
      "42000/42000 [==============================] - 3s 71us/sample - loss: 1.5633 - accuracy: 0.4300 - val_loss: 1.5563 - val_accuracy: 0.4332\n",
      "Epoch 57/100\n",
      "42000/42000 [==============================] - 3s 71us/sample - loss: 1.5548 - accuracy: 0.4333 - val_loss: 1.5506 - val_accuracy: 0.4348\n",
      "Epoch 58/100\n",
      "42000/42000 [==============================] - 3s 71us/sample - loss: 1.5524 - accuracy: 0.4338 - val_loss: 1.5420 - val_accuracy: 0.4413\n",
      "Epoch 59/100\n",
      "42000/42000 [==============================] - 3s 71us/sample - loss: 1.5449 - accuracy: 0.4366 - val_loss: 1.5453 - val_accuracy: 0.4382\n",
      "Epoch 60/100\n",
      "42000/42000 [==============================] - 3s 71us/sample - loss: 1.5431 - accuracy: 0.4387 - val_loss: 1.5346 - val_accuracy: 0.4447\n",
      "Epoch 61/100\n",
      "42000/42000 [==============================] - 3s 71us/sample - loss: 1.5392 - accuracy: 0.4418 - val_loss: 1.5392 - val_accuracy: 0.4396\n",
      "Epoch 62/100\n",
      "42000/42000 [==============================] - 3s 71us/sample - loss: 1.5306 - accuracy: 0.4431 - val_loss: 1.5330 - val_accuracy: 0.4465\n",
      "Epoch 63/100\n",
      "42000/42000 [==============================] - 3s 71us/sample - loss: 1.5314 - accuracy: 0.4431 - val_loss: 1.5280 - val_accuracy: 0.4451\n",
      "Epoch 64/100\n",
      "42000/42000 [==============================] - 3s 72us/sample - loss: 1.5232 - accuracy: 0.4471 - val_loss: 1.5382 - val_accuracy: 0.4401\n",
      "Epoch 65/100\n",
      "42000/42000 [==============================] - 3s 72us/sample - loss: 1.5153 - accuracy: 0.4518 - val_loss: 1.5093 - val_accuracy: 0.4549\n",
      "Epoch 66/100\n",
      "42000/42000 [==============================] - 3s 71us/sample - loss: 1.5133 - accuracy: 0.4517 - val_loss: 1.5471 - val_accuracy: 0.4403\n",
      "Epoch 67/100\n",
      "42000/42000 [==============================] - 3s 71us/sample - loss: 1.5108 - accuracy: 0.4530 - val_loss: 1.5160 - val_accuracy: 0.4532\n",
      "Epoch 68/100\n",
      "42000/42000 [==============================] - 3s 71us/sample - loss: 1.5045 - accuracy: 0.4559 - val_loss: 1.4955 - val_accuracy: 0.4603\n",
      "Epoch 69/100\n",
      "42000/42000 [==============================] - 3s 71us/sample - loss: 1.4998 - accuracy: 0.4576 - val_loss: 1.4971 - val_accuracy: 0.4584\n",
      "Epoch 70/100\n",
      "42000/42000 [==============================] - 3s 72us/sample - loss: 1.4953 - accuracy: 0.4586 - val_loss: 1.5005 - val_accuracy: 0.4514\n",
      "Epoch 71/100\n",
      "42000/42000 [==============================] - 3s 72us/sample - loss: 1.4922 - accuracy: 0.4614 - val_loss: 1.4877 - val_accuracy: 0.4611\n",
      "Epoch 72/100\n",
      "42000/42000 [==============================] - 3s 72us/sample - loss: 1.4853 - accuracy: 0.4646 - val_loss: 1.4855 - val_accuracy: 0.4647\n",
      "Epoch 73/100\n",
      "42000/42000 [==============================] - 3s 72us/sample - loss: 1.4776 - accuracy: 0.4683 - val_loss: 1.4767 - val_accuracy: 0.4692\n",
      "Epoch 74/100\n",
      "42000/42000 [==============================] - 3s 73us/sample - loss: 1.4778 - accuracy: 0.4680 - val_loss: 1.4741 - val_accuracy: 0.4679\n",
      "Epoch 75/100\n",
      "42000/42000 [==============================] - 3s 72us/sample - loss: 1.4740 - accuracy: 0.4672 - val_loss: 1.4702 - val_accuracy: 0.4694\n",
      "Epoch 76/100\n",
      "42000/42000 [==============================] - 3s 72us/sample - loss: 1.4699 - accuracy: 0.4705 - val_loss: 1.4754 - val_accuracy: 0.4674\n",
      "Epoch 77/100\n",
      "42000/42000 [==============================] - 3s 72us/sample - loss: 1.4637 - accuracy: 0.4735 - val_loss: 1.4594 - val_accuracy: 0.4743\n",
      "Epoch 78/100\n",
      "42000/42000 [==============================] - 3s 72us/sample - loss: 1.4646 - accuracy: 0.4732 - val_loss: 1.4560 - val_accuracy: 0.4767\n",
      "Epoch 79/100\n",
      "42000/42000 [==============================] - 3s 71us/sample - loss: 1.4542 - accuracy: 0.4772 - val_loss: 1.4518 - val_accuracy: 0.4769\n",
      "Epoch 80/100\n",
      "42000/42000 [==============================] - 3s 72us/sample - loss: 1.4496 - accuracy: 0.4806 - val_loss: 1.4625 - val_accuracy: 0.4724\n",
      "Epoch 81/100\n",
      "42000/42000 [==============================] - 3s 78us/sample - loss: 1.4477 - accuracy: 0.4802 - val_loss: 1.4551 - val_accuracy: 0.4766\n",
      "Epoch 82/100\n",
      "42000/42000 [==============================] - 3s 76us/sample - loss: 1.4424 - accuracy: 0.4830 - val_loss: 1.4444 - val_accuracy: 0.4814\n",
      "Epoch 83/100\n",
      "42000/42000 [==============================] - 3s 72us/sample - loss: 1.4378 - accuracy: 0.4842 - val_loss: 1.4363 - val_accuracy: 0.4850\n",
      "Epoch 84/100\n",
      "42000/42000 [==============================] - 3s 72us/sample - loss: 1.4332 - accuracy: 0.4860 - val_loss: 1.4461 - val_accuracy: 0.4760\n",
      "Epoch 85/100\n",
      "42000/42000 [==============================] - 3s 72us/sample - loss: 1.4277 - accuracy: 0.4872 - val_loss: 1.4413 - val_accuracy: 0.4833\n",
      "Epoch 86/100\n",
      "42000/42000 [==============================] - 3s 72us/sample - loss: 1.4233 - accuracy: 0.4920 - val_loss: 1.4299 - val_accuracy: 0.4859\n",
      "Epoch 87/100\n",
      "42000/42000 [==============================] - 3s 72us/sample - loss: 1.4218 - accuracy: 0.4909 - val_loss: 1.4327 - val_accuracy: 0.4827\n",
      "Epoch 88/100\n",
      "42000/42000 [==============================] - 3s 72us/sample - loss: 1.4170 - accuracy: 0.4923 - val_loss: 1.4233 - val_accuracy: 0.4869\n",
      "Epoch 89/100\n",
      "42000/42000 [==============================] - 3s 72us/sample - loss: 1.4149 - accuracy: 0.4944 - val_loss: 1.4255 - val_accuracy: 0.4882\n",
      "Epoch 90/100\n",
      "42000/42000 [==============================] - 3s 72us/sample - loss: 1.4105 - accuracy: 0.4948 - val_loss: 1.4178 - val_accuracy: 0.4895\n",
      "Epoch 91/100\n",
      "42000/42000 [==============================] - 3s 72us/sample - loss: 1.4045 - accuracy: 0.4964 - val_loss: 1.4088 - val_accuracy: 0.4944\n",
      "Epoch 92/100\n",
      "42000/42000 [==============================] - 3s 72us/sample - loss: 1.4030 - accuracy: 0.4992 - val_loss: 1.4201 - val_accuracy: 0.4929\n",
      "Epoch 93/100\n",
      "42000/42000 [==============================] - 3s 72us/sample - loss: 1.4017 - accuracy: 0.4990 - val_loss: 1.3998 - val_accuracy: 0.4948\n",
      "Epoch 94/100\n",
      "42000/42000 [==============================] - 3s 72us/sample - loss: 1.3933 - accuracy: 0.5032 - val_loss: 1.4163 - val_accuracy: 0.4866\n",
      "Epoch 95/100\n",
      "42000/42000 [==============================] - 3s 73us/sample - loss: 1.4005 - accuracy: 0.5007 - val_loss: 1.4018 - val_accuracy: 0.4931\n",
      "Epoch 96/100\n",
      "42000/42000 [==============================] - 3s 72us/sample - loss: 1.3890 - accuracy: 0.5035 - val_loss: 1.3910 - val_accuracy: 0.4999\n",
      "Epoch 97/100\n",
      "42000/42000 [==============================] - 3s 72us/sample - loss: 1.3829 - accuracy: 0.5040 - val_loss: 1.3905 - val_accuracy: 0.5012\n",
      "Epoch 98/100\n",
      "42000/42000 [==============================] - 3s 72us/sample - loss: 1.3854 - accuracy: 0.5062 - val_loss: 1.4112 - val_accuracy: 0.4922\n",
      "Epoch 99/100\n",
      "42000/42000 [==============================] - 3s 72us/sample - loss: 1.3773 - accuracy: 0.5085 - val_loss: 1.3849 - val_accuracy: 0.5029\n",
      "Epoch 100/100\n",
      "42000/42000 [==============================] - 3s 72us/sample - loss: 1.3777 - accuracy: 0.5076 - val_loss: 1.3990 - val_accuracy: 0.4892\n"
     ]
    },
    {
     "data": {
      "text/plain": [
       "<tensorflow.python.keras.callbacks.History at 0x1f03852fb48>"
      ]
     },
     "execution_count": 67,
     "metadata": {},
     "output_type": "execute_result"
    }
   ],
   "source": [
    "model2.fit(X_train, y_train1, validation_data=(X_test, y_test1),batch_size=300 ,epochs=100, verbose=1 )"
   ]
  },
  {
   "cell_type": "code",
   "execution_count": 68,
   "metadata": {},
   "outputs": [
    {
     "name": "stdout",
     "output_type": "stream",
     "text": [
      "Accuracy of NN with Adam Optimiser & Sigmoid on Validation data is  [1.3989588811662461, 0.48922223]\n"
     ]
    }
   ],
   "source": [
    "accuracy2 = model2.evaluate(X_test, y_test1, verbose=0)\n",
    "print(\"Accuracy of NN with Adam Optimiser & Sigmoid on Validation data is \", accuracy2)"
   ]
  },
  {
   "cell_type": "code",
   "execution_count": 69,
   "metadata": {},
   "outputs": [
    {
     "data": {
      "text/html": [
       "<div>\n",
       "<style scoped>\n",
       "    .dataframe tbody tr th:only-of-type {\n",
       "        vertical-align: middle;\n",
       "    }\n",
       "\n",
       "    .dataframe tbody tr th {\n",
       "        vertical-align: top;\n",
       "    }\n",
       "\n",
       "    .dataframe thead th {\n",
       "        text-align: right;\n",
       "    }\n",
       "</style>\n",
       "<table border=\"1\" class=\"dataframe\">\n",
       "  <thead>\n",
       "    <tr style=\"text-align: right;\">\n",
       "      <th></th>\n",
       "      <th>Method</th>\n",
       "      <th>Accuracy</th>\n",
       "    </tr>\n",
       "  </thead>\n",
       "  <tbody>\n",
       "    <tr>\n",
       "      <th>1</th>\n",
       "      <td>NN with Adam &amp; RELU</td>\n",
       "      <td>0.838889</td>\n",
       "    </tr>\n",
       "    <tr>\n",
       "      <th>2</th>\n",
       "      <td>NN with SGD &amp; RELU</td>\n",
       "      <td>0.113444</td>\n",
       "    </tr>\n",
       "    <tr>\n",
       "      <th>3</th>\n",
       "      <td>NN with adam &amp; sigmoid</td>\n",
       "      <td>0.489222</td>\n",
       "    </tr>\n",
       "  </tbody>\n",
       "</table>\n",
       "</div>"
      ],
      "text/plain": [
       "                   Method  Accuracy\n",
       "1     NN with Adam & RELU  0.838889\n",
       "2      NN with SGD & RELU  0.113444\n",
       "3  NN with adam & sigmoid  0.489222"
      ]
     },
     "execution_count": 69,
     "metadata": {},
     "output_type": "execute_result"
    }
   ],
   "source": [
    "# All Accuracy of model need to compile for further analysis and conclusion\n",
    "accuracy_of_val2 = pd.DataFrame({'Method':['NN with adam & sigmoid'], 'Accuracy': accuracy2[1]},index={'3'})\n",
    "accuracy_of_val =pd.concat([accuracy_of_val,accuracy_of_val2])\n",
    "accuracy_of_val = accuracy_of_val[['Method', 'Accuracy']]\n",
    "accuracy_of_val"
   ]
  },
  {
   "cell_type": "markdown",
   "metadata": {},
   "source": [
    "- Perfromance of Adam optimiser with Signoid Activation Function is not significant.\n",
    "- So for Batch Normalisation application, Adam with RELU activation has been considered due to high accuracy over Test Data Set."
   ]
  },
  {
   "cell_type": "markdown",
   "metadata": {},
   "source": [
    "### Apply Batch Normalisation"
   ]
  },
  {
   "cell_type": "code",
   "execution_count": 70,
   "metadata": {},
   "outputs": [],
   "source": [
    "model4 = tf.keras.models.Sequential()\n",
    "\n",
    "# Reshape data from 2D to 1D -> 32x32 to 1024\n",
    "model4.add(tf.keras.layers.Reshape((1024,),input_shape=(32,32,1)))\n",
    "\n",
    "# Normalize the data\n",
    "model4.add(tf.keras.layers.BatchNormalization())"
   ]
  },
  {
   "cell_type": "markdown",
   "metadata": {},
   "source": [
    "Step 1.1\n",
    "#### Optimizer: \"adam\"  with Learning Rate: 0.01\n",
    "#### Activation Function: \"relu\""
   ]
  },
  {
   "cell_type": "code",
   "execution_count": 71,
   "metadata": {},
   "outputs": [],
   "source": [
    "model4.add(tf.keras.layers.Dense(512, activation='relu', name='input'))\n",
    "\n",
    "# Hidden layers\n",
    "model4.add(tf.keras.layers.Dense(256, activation='relu', name='Layer_1'))\n",
    "model4.add(tf.keras.layers.Dense(128, activation='relu', name='Layer_2'))\n",
    "\n",
    "\n",
    "# Hidden layers\n",
    "model4.add(tf.keras.layers.Dense(64, activation='relu', name='Layer_3'))\n",
    "model4.add(tf.keras.layers.Dense(32, activation='relu', name='Layer_4'))\n",
    "\n",
    "\n",
    "#Output layer\n",
    "model4.add(tf.keras.layers.Dense(10, activation='softmax', name='Output'))"
   ]
  },
  {
   "cell_type": "code",
   "execution_count": 72,
   "metadata": {},
   "outputs": [
    {
     "name": "stdout",
     "output_type": "stream",
     "text": [
      "Model: \"sequential_5\"\n",
      "_________________________________________________________________\n",
      "Layer (type)                 Output Shape              Param #   \n",
      "=================================================================\n",
      "reshape_5 (Reshape)          (None, 1024)              0         \n",
      "_________________________________________________________________\n",
      "batch_normalization (BatchNo (None, 1024)              4096      \n",
      "_________________________________________________________________\n",
      "input (Dense)                (None, 512)               524800    \n",
      "_________________________________________________________________\n",
      "Layer_1 (Dense)              (None, 256)               131328    \n",
      "_________________________________________________________________\n",
      "Layer_2 (Dense)              (None, 128)               32896     \n",
      "_________________________________________________________________\n",
      "Layer_3 (Dense)              (None, 64)                8256      \n",
      "_________________________________________________________________\n",
      "Layer_4 (Dense)              (None, 32)                2080      \n",
      "_________________________________________________________________\n",
      "Output (Dense)               (None, 10)                330       \n",
      "=================================================================\n",
      "Total params: 703,786\n",
      "Trainable params: 701,738\n",
      "Non-trainable params: 2,048\n",
      "_________________________________________________________________\n"
     ]
    }
   ],
   "source": [
    "model4.summary()"
   ]
  },
  {
   "cell_type": "code",
   "execution_count": 73,
   "metadata": {},
   "outputs": [],
   "source": [
    "# Adam Optimiser with Lr= 0.0001\n",
    "model4.compile(optimizer=adam_optimiser2, loss='categorical_crossentropy', metrics=['accuracy']) "
   ]
  },
  {
   "cell_type": "code",
   "execution_count": 74,
   "metadata": {
    "scrolled": false
   },
   "outputs": [
    {
     "name": "stdout",
     "output_type": "stream",
     "text": [
      "Train on 42000 samples, validate on 18000 samples\n",
      "Epoch 1/100\n",
      "42000/42000 [==============================] - 5s 122us/sample - loss: 1.5990 - accuracy: 0.4571 - val_loss: 1.5030 - val_accuracy: 0.6530\n",
      "Epoch 2/100\n",
      "42000/42000 [==============================] - 5s 109us/sample - loss: 0.9820 - accuracy: 0.6989 - val_loss: 1.0180 - val_accuracy: 0.7198\n",
      "Epoch 3/100\n",
      "42000/42000 [==============================] - 5s 119us/sample - loss: 0.8192 - accuracy: 0.7534 - val_loss: 0.8257 - val_accuracy: 0.7589\n",
      "Epoch 4/100\n",
      "42000/42000 [==============================] - 4s 102us/sample - loss: 0.7302 - accuracy: 0.7813 - val_loss: 0.7600 - val_accuracy: 0.7744\n",
      "Epoch 5/100\n",
      "42000/42000 [==============================] - 4s 103us/sample - loss: 0.6740 - accuracy: 0.7961 - val_loss: 0.7378 - val_accuracy: 0.7804\n",
      "Epoch 6/100\n",
      "42000/42000 [==============================] - 5s 113us/sample - loss: 0.6269 - accuracy: 0.8102 - val_loss: 0.7121 - val_accuracy: 0.7917\n",
      "Epoch 7/100\n",
      "42000/42000 [==============================] - 4s 103us/sample - loss: 0.5838 - accuracy: 0.8247 - val_loss: 0.6862 - val_accuracy: 0.7992\n",
      "Epoch 8/100\n",
      "42000/42000 [==============================] - 4s 103us/sample - loss: 0.5525 - accuracy: 0.8347 - val_loss: 0.6743 - val_accuracy: 0.8026\n",
      "Epoch 9/100\n",
      "42000/42000 [==============================] - 4s 104us/sample - loss: 0.5261 - accuracy: 0.8427 - val_loss: 0.6584 - val_accuracy: 0.8096\n",
      "Epoch 10/100\n",
      "42000/42000 [==============================] - 4s 102us/sample - loss: 0.4959 - accuracy: 0.8513 - val_loss: 0.6419 - val_accuracy: 0.8133\n",
      "Epoch 11/100\n",
      "42000/42000 [==============================] - 4s 101us/sample - loss: 0.4722 - accuracy: 0.8590 - val_loss: 0.6511 - val_accuracy: 0.8117\n",
      "Epoch 12/100\n",
      "42000/42000 [==============================] - 4s 102us/sample - loss: 0.4540 - accuracy: 0.8635 - val_loss: 0.6321 - val_accuracy: 0.8202\n",
      "Epoch 13/100\n",
      "42000/42000 [==============================] - 4s 102us/sample - loss: 0.4349 - accuracy: 0.8702 - val_loss: 0.6323 - val_accuracy: 0.8181\n",
      "Epoch 14/100\n",
      "42000/42000 [==============================] - 4s 103us/sample - loss: 0.4137 - accuracy: 0.8762 - val_loss: 0.6389 - val_accuracy: 0.8161\n",
      "Epoch 15/100\n",
      "42000/42000 [==============================] - 4s 103us/sample - loss: 0.4017 - accuracy: 0.8790 - val_loss: 0.6107 - val_accuracy: 0.8285\n",
      "Epoch 16/100\n",
      "42000/42000 [==============================] - 4s 103us/sample - loss: 0.3872 - accuracy: 0.8830 - val_loss: 0.6083 - val_accuracy: 0.8292\n",
      "Epoch 17/100\n",
      "42000/42000 [==============================] - 4s 102us/sample - loss: 0.3674 - accuracy: 0.8917 - val_loss: 0.6211 - val_accuracy: 0.8241\n",
      "Epoch 18/100\n",
      "42000/42000 [==============================] - 4s 103us/sample - loss: 0.3555 - accuracy: 0.8937 - val_loss: 0.6263 - val_accuracy: 0.8252\n",
      "Epoch 19/100\n",
      "42000/42000 [==============================] - 4s 107us/sample - loss: 0.3480 - accuracy: 0.8960 - val_loss: 0.5923 - val_accuracy: 0.8364\n",
      "Epoch 20/100\n",
      "42000/42000 [==============================] - 5s 125us/sample - loss: 0.3309 - accuracy: 0.9038 - val_loss: 0.5952 - val_accuracy: 0.8366\n",
      "Epoch 21/100\n",
      "42000/42000 [==============================] - 4s 104us/sample - loss: 0.3183 - accuracy: 0.9065 - val_loss: 0.6006 - val_accuracy: 0.8342\n",
      "Epoch 22/100\n",
      "42000/42000 [==============================] - 4s 103us/sample - loss: 0.3118 - accuracy: 0.9075 - val_loss: 0.6162 - val_accuracy: 0.8296\n",
      "Epoch 23/100\n",
      "42000/42000 [==============================] - 5s 109us/sample - loss: 0.2963 - accuracy: 0.9118 - val_loss: 0.6137 - val_accuracy: 0.8331\n",
      "Epoch 24/100\n",
      "42000/42000 [==============================] - 4s 104us/sample - loss: 0.2897 - accuracy: 0.9142 - val_loss: 0.6065 - val_accuracy: 0.8351\n",
      "Epoch 25/100\n",
      "42000/42000 [==============================] - 4s 102us/sample - loss: 0.2777 - accuracy: 0.9179 - val_loss: 0.6203 - val_accuracy: 0.8332\n",
      "Epoch 26/100\n",
      "42000/42000 [==============================] - 5s 112us/sample - loss: 0.2692 - accuracy: 0.9204 - val_loss: 0.6150 - val_accuracy: 0.8368\n",
      "Epoch 27/100\n",
      "42000/42000 [==============================] - 4s 103us/sample - loss: 0.2582 - accuracy: 0.9237 - val_loss: 0.6130 - val_accuracy: 0.8361\n",
      "Epoch 28/100\n",
      "42000/42000 [==============================] - 4s 103us/sample - loss: 0.2516 - accuracy: 0.9255 - val_loss: 0.6143 - val_accuracy: 0.8375\n",
      "Epoch 29/100\n",
      "42000/42000 [==============================] - 4s 103us/sample - loss: 0.2398 - accuracy: 0.9295 - val_loss: 0.6181 - val_accuracy: 0.8366\n",
      "Epoch 30/100\n",
      "42000/42000 [==============================] - 4s 103us/sample - loss: 0.2366 - accuracy: 0.9301 - val_loss: 0.6411 - val_accuracy: 0.8343\n",
      "Epoch 31/100\n",
      "42000/42000 [==============================] - 5s 112us/sample - loss: 0.2247 - accuracy: 0.9335 - val_loss: 0.6387 - val_accuracy: 0.8353\n",
      "Epoch 32/100\n",
      "42000/42000 [==============================] - 4s 102us/sample - loss: 0.2193 - accuracy: 0.9356 - val_loss: 0.6281 - val_accuracy: 0.8386\n",
      "Epoch 33/100\n",
      "42000/42000 [==============================] - 4s 105us/sample - loss: 0.2115 - accuracy: 0.9389 - val_loss: 0.6172 - val_accuracy: 0.8399\n",
      "Epoch 34/100\n",
      "42000/42000 [==============================] - 4s 103us/sample - loss: 0.2052 - accuracy: 0.9396 - val_loss: 0.6296 - val_accuracy: 0.8426\n",
      "Epoch 35/100\n",
      "42000/42000 [==============================] - 4s 103us/sample - loss: 0.1986 - accuracy: 0.9415 - val_loss: 0.6524 - val_accuracy: 0.8364\n",
      "Epoch 36/100\n",
      "42000/42000 [==============================] - 4s 105us/sample - loss: 0.1919 - accuracy: 0.9442 - val_loss: 0.6369 - val_accuracy: 0.8426\n",
      "Epoch 37/100\n",
      "42000/42000 [==============================] - 4s 106us/sample - loss: 0.1858 - accuracy: 0.9460 - val_loss: 0.6628 - val_accuracy: 0.8370\n",
      "Epoch 38/100\n",
      "42000/42000 [==============================] - 4s 103us/sample - loss: 0.1806 - accuracy: 0.9470 - val_loss: 0.6652 - val_accuracy: 0.8371\n",
      "Epoch 39/100\n",
      "42000/42000 [==============================] - 4s 103us/sample - loss: 0.1758 - accuracy: 0.9477 - val_loss: 0.6518 - val_accuracy: 0.8406\n",
      "Epoch 40/100\n",
      "42000/42000 [==============================] - 4s 103us/sample - loss: 0.1680 - accuracy: 0.9518 - val_loss: 0.6549 - val_accuracy: 0.8414\n",
      "Epoch 41/100\n",
      "42000/42000 [==============================] - 5s 112us/sample - loss: 0.1599 - accuracy: 0.9540 - val_loss: 0.6712 - val_accuracy: 0.8407\n",
      "Epoch 42/100\n",
      "42000/42000 [==============================] - 4s 104us/sample - loss: 0.1589 - accuracy: 0.9537 - val_loss: 0.6863 - val_accuracy: 0.8403\n",
      "Epoch 43/100\n",
      "42000/42000 [==============================] - 4s 104us/sample - loss: 0.1535 - accuracy: 0.9563 - val_loss: 0.6925 - val_accuracy: 0.8389\n",
      "Epoch 44/100\n",
      "42000/42000 [==============================] - 5s 109us/sample - loss: 0.1532 - accuracy: 0.9550 - val_loss: 0.7038 - val_accuracy: 0.8385\n",
      "Epoch 45/100\n",
      "42000/42000 [==============================] - 4s 104us/sample - loss: 0.1464 - accuracy: 0.9569 - val_loss: 0.6803 - val_accuracy: 0.8427\n",
      "Epoch 46/100\n",
      "42000/42000 [==============================] - 4s 107us/sample - loss: 0.1437 - accuracy: 0.9581 - val_loss: 0.6859 - val_accuracy: 0.8442\n",
      "Epoch 47/100\n",
      "42000/42000 [==============================] - 4s 104us/sample - loss: 0.1383 - accuracy: 0.9588 - val_loss: 0.7100 - val_accuracy: 0.8408\n",
      "Epoch 48/100\n",
      "42000/42000 [==============================] - 4s 104us/sample - loss: 0.1308 - accuracy: 0.9626 - val_loss: 0.7136 - val_accuracy: 0.8423\n",
      "Epoch 49/100\n",
      "42000/42000 [==============================] - 4s 103us/sample - loss: 0.1251 - accuracy: 0.9640 - val_loss: 0.7127 - val_accuracy: 0.8417\n",
      "Epoch 50/100\n",
      "42000/42000 [==============================] - 4s 105us/sample - loss: 0.1221 - accuracy: 0.9655 - val_loss: 0.7180 - val_accuracy: 0.8432\n",
      "Epoch 51/100\n",
      "42000/42000 [==============================] - 5s 113us/sample - loss: 0.1283 - accuracy: 0.9623 - val_loss: 0.7302 - val_accuracy: 0.8409\n",
      "Epoch 52/100\n",
      "42000/42000 [==============================] - 4s 104us/sample - loss: 0.1230 - accuracy: 0.9651 - val_loss: 0.7377 - val_accuracy: 0.8390\n",
      "Epoch 53/100\n",
      "42000/42000 [==============================] - 4s 104us/sample - loss: 0.1106 - accuracy: 0.9688 - val_loss: 0.7338 - val_accuracy: 0.8416\n",
      "Epoch 54/100\n"
     ]
    },
    {
     "name": "stdout",
     "output_type": "stream",
     "text": [
      "42000/42000 [==============================] - 4s 102us/sample - loss: 0.1173 - accuracy: 0.9661 - val_loss: 0.7413 - val_accuracy: 0.8433\n",
      "Epoch 55/100\n",
      "42000/42000 [==============================] - 4s 103us/sample - loss: 0.1106 - accuracy: 0.9683 - val_loss: 0.7261 - val_accuracy: 0.8442\n",
      "Epoch 56/100\n",
      "42000/42000 [==============================] - 4s 102us/sample - loss: 0.1035 - accuracy: 0.9702 - val_loss: 0.7759 - val_accuracy: 0.8375\n",
      "Epoch 57/100\n",
      "42000/42000 [==============================] - 4s 102us/sample - loss: 0.1046 - accuracy: 0.9697 - val_loss: 0.7794 - val_accuracy: 0.8418\n",
      "Epoch 58/100\n",
      "42000/42000 [==============================] - 4s 103us/sample - loss: 0.1009 - accuracy: 0.9711 - val_loss: 0.7613 - val_accuracy: 0.8419\n",
      "Epoch 59/100\n",
      "42000/42000 [==============================] - 4s 104us/sample - loss: 0.0935 - accuracy: 0.9737 - val_loss: 0.7773 - val_accuracy: 0.8428\n",
      "Epoch 60/100\n",
      "42000/42000 [==============================] - 5s 112us/sample - loss: 0.0919 - accuracy: 0.9741 - val_loss: 0.8103 - val_accuracy: 0.8375\n",
      "Epoch 61/100\n",
      "42000/42000 [==============================] - 4s 103us/sample - loss: 0.0952 - accuracy: 0.9723 - val_loss: 0.8271 - val_accuracy: 0.8359\n",
      "Epoch 62/100\n",
      "42000/42000 [==============================] - 4s 102us/sample - loss: 0.0927 - accuracy: 0.9737 - val_loss: 0.8288 - val_accuracy: 0.8367\n",
      "Epoch 63/100\n",
      "42000/42000 [==============================] - 4s 103us/sample - loss: 0.0886 - accuracy: 0.9747 - val_loss: 0.7965 - val_accuracy: 0.8426\n",
      "Epoch 64/100\n",
      "42000/42000 [==============================] - 4s 103us/sample - loss: 0.0820 - accuracy: 0.9762 - val_loss: 0.8092 - val_accuracy: 0.8428\n",
      "Epoch 65/100\n",
      "42000/42000 [==============================] - 4s 102us/sample - loss: 0.0785 - accuracy: 0.9783 - val_loss: 0.8152 - val_accuracy: 0.8412\n",
      "Epoch 66/100\n",
      "42000/42000 [==============================] - 4s 102us/sample - loss: 0.0740 - accuracy: 0.9795 - val_loss: 0.8184 - val_accuracy: 0.8426\n",
      "Epoch 67/100\n",
      "42000/42000 [==============================] - 4s 103us/sample - loss: 0.0795 - accuracy: 0.9772 - val_loss: 0.8306 - val_accuracy: 0.8421\n",
      "Epoch 68/100\n",
      "42000/42000 [==============================] - 4s 103us/sample - loss: 0.0776 - accuracy: 0.9780 - val_loss: 0.8266 - val_accuracy: 0.8425\n",
      "Epoch 69/100\n",
      "42000/42000 [==============================] - 4s 102us/sample - loss: 0.0691 - accuracy: 0.9805 - val_loss: 0.8498 - val_accuracy: 0.8413\n",
      "Epoch 70/100\n",
      "42000/42000 [==============================] - 4s 103us/sample - loss: 0.0746 - accuracy: 0.9789 - val_loss: 0.8567 - val_accuracy: 0.8418\n",
      "Epoch 71/100\n",
      "42000/42000 [==============================] - 4s 102us/sample - loss: 0.0703 - accuracy: 0.9798 - val_loss: 0.8505 - val_accuracy: 0.8442\n",
      "Epoch 72/100\n",
      "42000/42000 [==============================] - 4s 103us/sample - loss: 0.0657 - accuracy: 0.9818 - val_loss: 0.8593 - val_accuracy: 0.8446\n",
      "Epoch 73/100\n",
      "42000/42000 [==============================] - 4s 102us/sample - loss: 0.0648 - accuracy: 0.9817 - val_loss: 0.8644 - val_accuracy: 0.8457\n",
      "Epoch 74/100\n",
      "42000/42000 [==============================] - 4s 106us/sample - loss: 0.0679 - accuracy: 0.9805 - val_loss: 0.9006 - val_accuracy: 0.8367\n",
      "Epoch 75/100\n",
      "42000/42000 [==============================] - 5s 109us/sample - loss: 0.0691 - accuracy: 0.9800 - val_loss: 0.8755 - val_accuracy: 0.8438\n",
      "Epoch 76/100\n",
      "42000/42000 [==============================] - 4s 103us/sample - loss: 0.0628 - accuracy: 0.9822 - val_loss: 0.8980 - val_accuracy: 0.8401\n",
      "Epoch 77/100\n",
      "42000/42000 [==============================] - 4s 103us/sample - loss: 0.0717 - accuracy: 0.9793 - val_loss: 0.9047 - val_accuracy: 0.8382\n",
      "Epoch 78/100\n",
      "42000/42000 [==============================] - 4s 105us/sample - loss: 0.0671 - accuracy: 0.9807 - val_loss: 0.8789 - val_accuracy: 0.8438\n",
      "Epoch 79/100\n",
      "42000/42000 [==============================] - 4s 103us/sample - loss: 0.0591 - accuracy: 0.9836 - val_loss: 0.9034 - val_accuracy: 0.8394\n",
      "Epoch 80/100\n",
      "42000/42000 [==============================] - 4s 103us/sample - loss: 0.0547 - accuracy: 0.9848 - val_loss: 0.8967 - val_accuracy: 0.8443\n",
      "Epoch 81/100\n",
      "42000/42000 [==============================] - 4s 103us/sample - loss: 0.0528 - accuracy: 0.9855 - val_loss: 0.9082 - val_accuracy: 0.8429\n",
      "Epoch 82/100\n",
      "42000/42000 [==============================] - 4s 102us/sample - loss: 0.0572 - accuracy: 0.9840 - val_loss: 0.9156 - val_accuracy: 0.8414\n",
      "Epoch 83/100\n",
      "42000/42000 [==============================] - 4s 103us/sample - loss: 0.0518 - accuracy: 0.9858 - val_loss: 0.9405 - val_accuracy: 0.8382\n",
      "Epoch 84/100\n",
      "42000/42000 [==============================] - 4s 104us/sample - loss: 0.0576 - accuracy: 0.9840 - val_loss: 0.9323 - val_accuracy: 0.8424\n",
      "Epoch 85/100\n",
      "42000/42000 [==============================] - 4s 103us/sample - loss: 0.0486 - accuracy: 0.9862 - val_loss: 0.9648 - val_accuracy: 0.8392\n",
      "Epoch 86/100\n",
      "42000/42000 [==============================] - 4s 104us/sample - loss: 0.0566 - accuracy: 0.9838 - val_loss: 0.9406 - val_accuracy: 0.8433\n",
      "Epoch 87/100\n",
      "42000/42000 [==============================] - 4s 103us/sample - loss: 0.0510 - accuracy: 0.9855 - val_loss: 0.9419 - val_accuracy: 0.8443\n",
      "Epoch 88/100\n",
      "42000/42000 [==============================] - 4s 106us/sample - loss: 0.0502 - accuracy: 0.9858 - val_loss: 0.9615 - val_accuracy: 0.8410\n",
      "Epoch 89/100\n",
      "42000/42000 [==============================] - 4s 103us/sample - loss: 0.0456 - accuracy: 0.9874 - val_loss: 0.9761 - val_accuracy: 0.8399\n",
      "Epoch 90/100\n",
      "42000/42000 [==============================] - 4s 105us/sample - loss: 0.0500 - accuracy: 0.9858 - val_loss: 0.9805 - val_accuracy: 0.8374\n",
      "Epoch 91/100\n",
      "42000/42000 [==============================] - 4s 105us/sample - loss: 0.0552 - accuracy: 0.9840 - val_loss: 0.9798 - val_accuracy: 0.8402\n",
      "Epoch 92/100\n",
      "42000/42000 [==============================] - 4s 103us/sample - loss: 0.0494 - accuracy: 0.9858 - val_loss: 0.9637 - val_accuracy: 0.8444\n",
      "Epoch 93/100\n",
      "42000/42000 [==============================] - 4s 103us/sample - loss: 0.0410 - accuracy: 0.9885 - val_loss: 1.0008 - val_accuracy: 0.8401\n",
      "Epoch 94/100\n",
      "42000/42000 [==============================] - 4s 103us/sample - loss: 0.0545 - accuracy: 0.9841 - val_loss: 1.0006 - val_accuracy: 0.8412\n",
      "Epoch 95/100\n",
      "42000/42000 [==============================] - 4s 103us/sample - loss: 0.0492 - accuracy: 0.9860 - val_loss: 0.9921 - val_accuracy: 0.8398\n",
      "Epoch 96/100\n",
      "42000/42000 [==============================] - 4s 104us/sample - loss: 0.0446 - accuracy: 0.9873 - val_loss: 0.9697 - val_accuracy: 0.8437.0440 - accu\n",
      "Epoch 97/100\n",
      "42000/42000 [==============================] - 5s 114us/sample - loss: 0.0428 - accuracy: 0.9877 - val_loss: 1.0106 - val_accuracy: 0.8403\n",
      "Epoch 98/100\n",
      "42000/42000 [==============================] - 4s 104us/sample - loss: 0.0433 - accuracy: 0.9875 - val_loss: 1.0061 - val_accuracy: 0.8438\n",
      "Epoch 99/100\n",
      "42000/42000 [==============================] - 4s 103us/sample - loss: 0.0378 - accuracy: 0.9894 - val_loss: 1.0237 - val_accuracy: 0.8412\n",
      "Epoch 100/100\n",
      "42000/42000 [==============================] - 5s 113us/sample - loss: 0.0516 - accuracy: 0.9855 - val_loss: 1.0397 - val_accuracy: 0.8403\n"
     ]
    },
    {
     "data": {
      "text/plain": [
       "<tensorflow.python.keras.callbacks.History at 0x1f026d26f88>"
      ]
     },
     "execution_count": 74,
     "metadata": {},
     "output_type": "execute_result"
    }
   ],
   "source": [
    "model4.fit(X_train, y_train1, validation_data=(X_test, y_test1),batch_size=300, epochs=100, verbose=1 )"
   ]
  },
  {
   "cell_type": "markdown",
   "metadata": {},
   "source": [
    "Accuracy of Model is 98 % over train tuple but Validation accuracy over test sample is 84 % This seems model overfit model"
   ]
  },
  {
   "cell_type": "code",
   "execution_count": 75,
   "metadata": {},
   "outputs": [
    {
     "name": "stdout",
     "output_type": "stream",
     "text": [
      "Accuracy of NN with Adam Optimiser in Batch norm on Validation data is  [1.0396788690475127, 0.8402778]\n"
     ]
    }
   ],
   "source": [
    "accuracy3 = model4.evaluate(X_test, y_test1, verbose=0)\n",
    "print(\"Accuracy of NN with Adam Optimiser in Batch norm on Validation data is \", accuracy3)"
   ]
  },
  {
   "cell_type": "code",
   "execution_count": 76,
   "metadata": {},
   "outputs": [
    {
     "data": {
      "text/html": [
       "<div>\n",
       "<style scoped>\n",
       "    .dataframe tbody tr th:only-of-type {\n",
       "        vertical-align: middle;\n",
       "    }\n",
       "\n",
       "    .dataframe tbody tr th {\n",
       "        vertical-align: top;\n",
       "    }\n",
       "\n",
       "    .dataframe thead th {\n",
       "        text-align: right;\n",
       "    }\n",
       "</style>\n",
       "<table border=\"1\" class=\"dataframe\">\n",
       "  <thead>\n",
       "    <tr style=\"text-align: right;\">\n",
       "      <th></th>\n",
       "      <th>Method</th>\n",
       "      <th>Accuracy</th>\n",
       "    </tr>\n",
       "  </thead>\n",
       "  <tbody>\n",
       "    <tr>\n",
       "      <th>1</th>\n",
       "      <td>NN with Adam &amp; RELU</td>\n",
       "      <td>0.838889</td>\n",
       "    </tr>\n",
       "    <tr>\n",
       "      <th>2</th>\n",
       "      <td>NN with SGD &amp; RELU</td>\n",
       "      <td>0.113444</td>\n",
       "    </tr>\n",
       "    <tr>\n",
       "      <th>3</th>\n",
       "      <td>NN with adam &amp; sigmoid</td>\n",
       "      <td>0.489222</td>\n",
       "    </tr>\n",
       "    <tr>\n",
       "      <th>4</th>\n",
       "      <td>NN with Adam in Batch Norm(RELU)</td>\n",
       "      <td>0.840278</td>\n",
       "    </tr>\n",
       "  </tbody>\n",
       "</table>\n",
       "</div>"
      ],
      "text/plain": [
       "                             Method  Accuracy\n",
       "1               NN with Adam & RELU  0.838889\n",
       "2                NN with SGD & RELU  0.113444\n",
       "3            NN with adam & sigmoid  0.489222\n",
       "4  NN with Adam in Batch Norm(RELU)  0.840278"
      ]
     },
     "execution_count": 76,
     "metadata": {},
     "output_type": "execute_result"
    }
   ],
   "source": [
    "# All Accuracy of model need to compile for further analysis and conclusion\n",
    "accuracy_of_val3 = pd.DataFrame({'Method':['NN with Adam in Batch Norm(RELU)'], 'Accuracy': accuracy3[1]},index={'4'})\n",
    "accuracy_of_val =pd.concat([accuracy_of_val,accuracy_of_val3])\n",
    "accuracy_of_val = accuracy_of_val[['Method', 'Accuracy']]\n",
    "accuracy_of_val"
   ]
  },
  {
   "cell_type": "markdown",
   "metadata": {},
   "source": [
    "#### By seeing above accuracy level of Models, Adam Optimiser with RELU has seen better accuracy level than SGD with RELU and Adam with Sigmoid"
   ]
  },
  {
   "cell_type": "markdown",
   "metadata": {},
   "source": [
    "#### In next step, RELU with Adam optimiser in with Leraning Rate = 0.0001 and adding drop out step in the NN."
   ]
  },
  {
   "cell_type": "markdown",
   "metadata": {},
   "source": [
    "#### Optimizer: 'adam'\n",
    "#### Activation: 'relu'\n",
    "#### Learning Rate: 0.0001\n",
    "#### Batch Norm and Drop Out"
   ]
  },
  {
   "cell_type": "code",
   "execution_count": 77,
   "metadata": {},
   "outputs": [],
   "source": [
    "model5 = tf.keras.models.Sequential()\n",
    "\n",
    "# Reshape data from 2D to 1D -> 32x32 to 1024\n",
    "model5.add(tf.keras.layers.Reshape((1024,),input_shape=(32,32,1)))\n",
    "\n",
    "# Normalize the data\n",
    "model5.add(tf.keras.layers.BatchNormalization())"
   ]
  },
  {
   "cell_type": "code",
   "execution_count": 78,
   "metadata": {},
   "outputs": [],
   "source": [
    "model5.add(tf.keras.layers.Dense(512, activation='relu', name='input'))\n",
    "\n",
    "# Hidden layers\n",
    "model5.add(tf.keras.layers.Dense(256, activation='relu', name='Layer_1'))\n",
    "model5.add(tf.keras.layers.Dense(128, activation='relu', name='Layer_2'))\n",
    "\n",
    "# Dropout layer\n",
    "model5.add(tf.keras.layers.Dropout(0.5))\n",
    "\n",
    "\n",
    "# Hidden layers\n",
    "model5.add(tf.keras.layers.Dense(64, activation='relu', name='Layer_3'))\n",
    "model5.add(tf.keras.layers.Dense(32, activation='relu', name='Layer_4'))\n",
    "# Dropout layer\n",
    "model5.add(tf.keras.layers.Dropout(0.3))\n",
    "\n",
    "#Output layer\n",
    "model5.add(tf.keras.layers.Dense(10, activation='softmax', name='Output'))"
   ]
  },
  {
   "cell_type": "code",
   "execution_count": 79,
   "metadata": {},
   "outputs": [
    {
     "name": "stdout",
     "output_type": "stream",
     "text": [
      "Model: \"sequential_6\"\n",
      "_________________________________________________________________\n",
      "Layer (type)                 Output Shape              Param #   \n",
      "=================================================================\n",
      "reshape_6 (Reshape)          (None, 1024)              0         \n",
      "_________________________________________________________________\n",
      "batch_normalization_1 (Batch (None, 1024)              4096      \n",
      "_________________________________________________________________\n",
      "input (Dense)                (None, 512)               524800    \n",
      "_________________________________________________________________\n",
      "Layer_1 (Dense)              (None, 256)               131328    \n",
      "_________________________________________________________________\n",
      "Layer_2 (Dense)              (None, 128)               32896     \n",
      "_________________________________________________________________\n",
      "dropout (Dropout)            (None, 128)               0         \n",
      "_________________________________________________________________\n",
      "Layer_3 (Dense)              (None, 64)                8256      \n",
      "_________________________________________________________________\n",
      "Layer_4 (Dense)              (None, 32)                2080      \n",
      "_________________________________________________________________\n",
      "dropout_1 (Dropout)          (None, 32)                0         \n",
      "_________________________________________________________________\n",
      "Output (Dense)               (None, 10)                330       \n",
      "=================================================================\n",
      "Total params: 703,786\n",
      "Trainable params: 701,738\n",
      "Non-trainable params: 2,048\n",
      "_________________________________________________________________\n"
     ]
    }
   ],
   "source": [
    "model5.summary()"
   ]
  },
  {
   "cell_type": "code",
   "execution_count": 80,
   "metadata": {},
   "outputs": [],
   "source": [
    "# Adam Optimiser with Lr= 0.0001\n",
    "model5.compile(optimizer=adam_optimiser2, loss='categorical_crossentropy', metrics=['accuracy']) "
   ]
  },
  {
   "cell_type": "code",
   "execution_count": 81,
   "metadata": {},
   "outputs": [
    {
     "name": "stdout",
     "output_type": "stream",
     "text": [
      "Train on 42000 samples, validate on 18000 samples\n",
      "Epoch 1/100\n",
      "42000/42000 [==============================] - 5s 126us/sample - loss: 2.2589 - accuracy: 0.1471 - val_loss: 2.1719 - val_accuracy: 0.2889\n",
      "Epoch 2/100\n",
      "42000/42000 [==============================] - 4s 104us/sample - loss: 1.9157 - accuracy: 0.2970 - val_loss: 1.7344 - val_accuracy: 0.5008\n",
      "Epoch 3/100\n",
      "42000/42000 [==============================] - 4s 104us/sample - loss: 1.6279 - accuracy: 0.4292 - val_loss: 1.3250 - val_accuracy: 0.6163\n",
      "Epoch 4/100\n",
      "42000/42000 [==============================] - 5s 114us/sample - loss: 1.4201 - accuracy: 0.5192 - val_loss: 1.1133 - val_accuracy: 0.6826\n",
      "Epoch 5/100\n",
      "42000/42000 [==============================] - 4s 105us/sample - loss: 1.2749 - accuracy: 0.5835 - val_loss: 0.9879 - val_accuracy: 0.7156\n",
      "Epoch 6/100\n",
      "42000/42000 [==============================] - 4s 104us/sample - loss: 1.1624 - accuracy: 0.6255 - val_loss: 0.9119 - val_accuracy: 0.7370\n",
      "Epoch 7/100\n",
      "42000/42000 [==============================] - 4s 104us/sample - loss: 1.0855 - accuracy: 0.6586 - val_loss: 0.8671 - val_accuracy: 0.7555\n",
      "Epoch 8/100\n",
      "42000/42000 [==============================] - 4s 104us/sample - loss: 1.0207 - accuracy: 0.6814 - val_loss: 0.8185 - val_accuracy: 0.7646\n",
      "Epoch 9/100\n",
      "42000/42000 [==============================] - 4s 106us/sample - loss: 0.9634 - accuracy: 0.7062 - val_loss: 0.7817 - val_accuracy: 0.7730\n",
      "Epoch 10/100\n",
      "42000/42000 [==============================] - 4s 103us/sample - loss: 0.9099 - accuracy: 0.7222 - val_loss: 0.7503 - val_accuracy: 0.7833\n",
      "Epoch 11/100\n",
      "42000/42000 [==============================] - 4s 105us/sample - loss: 0.8733 - accuracy: 0.7345 - val_loss: 0.7285 - val_accuracy: 0.7890\n",
      "Epoch 12/100\n",
      "42000/42000 [==============================] - 4s 104us/sample - loss: 0.8395 - accuracy: 0.7469 - val_loss: 0.7148 - val_accuracy: 0.7927\n",
      "Epoch 13/100\n",
      "42000/42000 [==============================] - 4s 104us/sample - loss: 0.7950 - accuracy: 0.7593 - val_loss: 0.6961 - val_accuracy: 0.7956\n",
      "Epoch 14/100\n",
      "42000/42000 [==============================] - 5s 116us/sample - loss: 0.7749 - accuracy: 0.7682 - val_loss: 0.6748 - val_accuracy: 0.8036\n",
      "Epoch 15/100\n",
      "42000/42000 [==============================] - 4s 105us/sample - loss: 0.7479 - accuracy: 0.7767 - val_loss: 0.6601 - val_accuracy: 0.8073\n",
      "Epoch 16/100\n",
      "42000/42000 [==============================] - 4s 105us/sample - loss: 0.7284 - accuracy: 0.7830 - val_loss: 0.6452 - val_accuracy: 0.8153\n",
      "Epoch 17/100\n",
      "42000/42000 [==============================] - 5s 109us/sample - loss: 0.7049 - accuracy: 0.7886 - val_loss: 0.6358 - val_accuracy: 0.8158\n",
      "Epoch 18/100\n",
      "42000/42000 [==============================] - 5s 120us/sample - loss: 0.6813 - accuracy: 0.7969 - val_loss: 0.6341 - val_accuracy: 0.8152\n",
      "Epoch 19/100\n",
      "42000/42000 [==============================] - 5s 118us/sample - loss: 0.6646 - accuracy: 0.8013 - val_loss: 0.6173 - val_accuracy: 0.8213\n",
      "Epoch 20/100\n",
      "42000/42000 [==============================] - 5s 125us/sample - loss: 0.6547 - accuracy: 0.8053 - val_loss: 0.6188 - val_accuracy: 0.8224\n",
      "Epoch 21/100\n",
      "42000/42000 [==============================] - 5s 119us/sample - loss: 0.6340 - accuracy: 0.8119 - val_loss: 0.6079 - val_accuracy: 0.8232\n",
      "Epoch 22/100\n",
      "42000/42000 [==============================] - 5s 111us/sample - loss: 0.6178 - accuracy: 0.8155 - val_loss: 0.6020 - val_accuracy: 0.8252\n",
      "Epoch 23/100\n",
      "42000/42000 [==============================] - 4s 107us/sample - loss: 0.6002 - accuracy: 0.8213 - val_loss: 0.5903 - val_accuracy: 0.8309\n",
      "Epoch 24/100\n",
      "42000/42000 [==============================] - 4s 106us/sample - loss: 0.5937 - accuracy: 0.8235 - val_loss: 0.5983 - val_accuracy: 0.8275\n",
      "Epoch 25/100\n",
      "42000/42000 [==============================] - 4s 105us/sample - loss: 0.5636 - accuracy: 0.8325 - val_loss: 0.6004 - val_accuracy: 0.8294\n",
      "Epoch 26/100\n",
      "42000/42000 [==============================] - 4s 105us/sample - loss: 0.5591 - accuracy: 0.8341 - val_loss: 0.5795 - val_accuracy: 0.8321\n",
      "Epoch 27/100\n",
      "42000/42000 [==============================] - 4s 107us/sample - loss: 0.5448 - accuracy: 0.8383 - val_loss: 0.5819 - val_accuracy: 0.8353\n",
      "Epoch 28/100\n",
      "42000/42000 [==============================] - 4s 106us/sample - loss: 0.5360 - accuracy: 0.8414 - val_loss: 0.5808 - val_accuracy: 0.8339\n",
      "Epoch 29/100\n",
      "42000/42000 [==============================] - 4s 106us/sample - loss: 0.5253 - accuracy: 0.8452 - val_loss: 0.5827 - val_accuracy: 0.8371\n",
      "Epoch 30/100\n",
      "42000/42000 [==============================] - 4s 106us/sample - loss: 0.5120 - accuracy: 0.8488 - val_loss: 0.5764 - val_accuracy: 0.8352\n",
      "Epoch 31/100\n",
      "42000/42000 [==============================] - 5s 108us/sample - loss: 0.5044 - accuracy: 0.8508 - val_loss: 0.5740 - val_accuracy: 0.8372\n",
      "Epoch 32/100\n",
      "42000/42000 [==============================] - 5s 114us/sample - loss: 0.4878 - accuracy: 0.8542 - val_loss: 0.5723 - val_accuracy: 0.8378\n",
      "Epoch 33/100\n",
      "42000/42000 [==============================] - 4s 105us/sample - loss: 0.4856 - accuracy: 0.8560 - val_loss: 0.5618 - val_accuracy: 0.8437\n",
      "Epoch 34/100\n",
      "42000/42000 [==============================] - 4s 106us/sample - loss: 0.4731 - accuracy: 0.8601 - val_loss: 0.5790 - val_accuracy: 0.8398\n",
      "Epoch 35/100\n",
      "42000/42000 [==============================] - 4s 107us/sample - loss: 0.4626 - accuracy: 0.8626 - val_loss: 0.5588 - val_accuracy: 0.8444\n",
      "Epoch 36/100\n",
      "42000/42000 [==============================] - 4s 104us/sample - loss: 0.4528 - accuracy: 0.8672 - val_loss: 0.5674 - val_accuracy: 0.8424\n",
      "Epoch 37/100\n",
      "42000/42000 [==============================] - 4s 105us/sample - loss: 0.4543 - accuracy: 0.8677 - val_loss: 0.5626 - val_accuracy: 0.8427\n",
      "Epoch 38/100\n",
      "42000/42000 [==============================] - 5s 108us/sample - loss: 0.4416 - accuracy: 0.8695 - val_loss: 0.5892 - val_accuracy: 0.8359\n",
      "Epoch 39/100\n",
      "42000/42000 [==============================] - 4s 105us/sample - loss: 0.4327 - accuracy: 0.8725 - val_loss: 0.5723 - val_accuracy: 0.8406\n",
      "Epoch 40/100\n",
      "42000/42000 [==============================] - 4s 99us/sample - loss: 0.4273 - accuracy: 0.8748 - val_loss: 0.5796 - val_accuracy: 0.8414\n",
      "Epoch 41/100\n",
      "42000/42000 [==============================] - 215s 5ms/sample - loss: 0.4204 - accuracy: 0.8739 - val_loss: 0.5609 - val_accuracy: 0.8448\n",
      "Epoch 42/100\n",
      "42000/42000 [==============================] - 5s 117us/sample - loss: 0.4093 - accuracy: 0.8782 - val_loss: 0.5579 - val_accuracy: 0.8444\n",
      "Epoch 43/100\n",
      "42000/42000 [==============================] - 5s 112us/sample - loss: 0.4000 - accuracy: 0.8815 - val_loss: 0.5673 - val_accuracy: 0.8466\n",
      "Epoch 44/100\n",
      "42000/42000 [==============================] - 6s 146us/sample - loss: 0.4008 - accuracy: 0.8803 - val_loss: 0.5663 - val_accuracy: 0.8468\n",
      "Epoch 45/100\n",
      "42000/42000 [==============================] - 8s 184us/sample - loss: 0.3953 - accuracy: 0.8829 - val_loss: 0.5683 - val_accuracy: 0.8473\n",
      "Epoch 46/100\n",
      "42000/42000 [==============================] - 8s 180us/sample - loss: 0.3921 - accuracy: 0.8850 - val_loss: 0.5735 - val_accuracy: 0.8454\n",
      "Epoch 47/100\n",
      "42000/42000 [==============================] - 7s 162us/sample - loss: 0.3804 - accuracy: 0.8876 - val_loss: 0.5790 - val_accuracy: 0.8472\n",
      "Epoch 48/100\n",
      "42000/42000 [==============================] - 8s 179us/sample - loss: 0.3697 - accuracy: 0.8920 - val_loss: 0.5722 - val_accuracy: 0.8519\n",
      "Epoch 49/100\n",
      "42000/42000 [==============================] - 5s 117us/sample - loss: 0.3699 - accuracy: 0.8913 - val_loss: 0.5713 - val_accuracy: 0.8501\n",
      "Epoch 50/100\n",
      "42000/42000 [==============================] - 5s 112us/sample - loss: 0.3664 - accuracy: 0.8921 - val_loss: 0.5720 - val_accuracy: 0.8502\n",
      "Epoch 51/100\n",
      "42000/42000 [==============================] - 5s 111us/sample - loss: 0.3537 - accuracy: 0.8961 - val_loss: 0.5762 - val_accuracy: 0.8519\n",
      "Epoch 52/100\n",
      "42000/42000 [==============================] - 6s 135us/sample - loss: 0.3501 - accuracy: 0.8968 - val_loss: 0.5776 - val_accuracy: 0.8474\n",
      "Epoch 53/100\n",
      "42000/42000 [==============================] - 6s 151us/sample - loss: 0.3458 - accuracy: 0.8986 - val_loss: 0.5859 - val_accuracy: 0.8494\n",
      "Epoch 54/100\n"
     ]
    },
    {
     "name": "stdout",
     "output_type": "stream",
     "text": [
      "42000/42000 [==============================] - 6s 143us/sample - loss: 0.3381 - accuracy: 0.9001 - val_loss: 0.5834 - val_accuracy: 0.8519\n",
      "Epoch 55/100\n",
      "42000/42000 [==============================] - 6s 147us/sample - loss: 0.3346 - accuracy: 0.9006 - val_loss: 0.5810 - val_accuracy: 0.8502\n",
      "Epoch 56/100\n",
      "42000/42000 [==============================] - 7s 166us/sample - loss: 0.3357 - accuracy: 0.9015 - val_loss: 0.5816 - val_accuracy: 0.8503\n",
      "Epoch 57/100\n",
      "42000/42000 [==============================] - 5s 121us/sample - loss: 0.3269 - accuracy: 0.9033 - val_loss: 0.5797 - val_accuracy: 0.8528\n",
      "Epoch 58/100\n",
      "42000/42000 [==============================] - 4s 101us/sample - loss: 0.3215 - accuracy: 0.9042 - val_loss: 0.5888 - val_accuracy: 0.8512\n",
      "Epoch 59/100\n",
      "42000/42000 [==============================] - 4s 103us/sample - loss: 0.3168 - accuracy: 0.9053 - val_loss: 0.5932 - val_accuracy: 0.8514\n",
      "Epoch 60/100\n",
      "42000/42000 [==============================] - 4s 100us/sample - loss: 0.3138 - accuracy: 0.9065 - val_loss: 0.5901 - val_accuracy: 0.8538\n",
      "Epoch 61/100\n",
      "42000/42000 [==============================] - 5s 121us/sample - loss: 0.3038 - accuracy: 0.9111 - val_loss: 0.5963 - val_accuracy: 0.8523\n",
      "Epoch 62/100\n",
      "42000/42000 [==============================] - 5s 129us/sample - loss: 0.3193 - accuracy: 0.9038 - val_loss: 0.5976 - val_accuracy: 0.8517\n",
      "Epoch 63/100\n",
      "42000/42000 [==============================] - 5s 129us/sample - loss: 0.3047 - accuracy: 0.9103 - val_loss: 0.5928 - val_accuracy: 0.8531\n",
      "Epoch 64/100\n",
      "42000/42000 [==============================] - 5s 129us/sample - loss: 0.2893 - accuracy: 0.9146 - val_loss: 0.6009 - val_accuracy: 0.8524\n",
      "Epoch 65/100\n",
      "42000/42000 [==============================] - 6s 131us/sample - loss: 0.2904 - accuracy: 0.9141 - val_loss: 0.5941 - val_accuracy: 0.8554\n",
      "Epoch 66/100\n",
      "42000/42000 [==============================] - 5s 128us/sample - loss: 0.2834 - accuracy: 0.9166 - val_loss: 0.5992 - val_accuracy: 0.8532\n",
      "Epoch 67/100\n",
      "42000/42000 [==============================] - 5s 129us/sample - loss: 0.2880 - accuracy: 0.9140 - val_loss: 0.6080 - val_accuracy: 0.8523\n",
      "Epoch 68/100\n",
      "42000/42000 [==============================] - 5s 129us/sample - loss: 0.2805 - accuracy: 0.9170 - val_loss: 0.6160 - val_accuracy: 0.8516\n",
      "Epoch 69/100\n",
      "42000/42000 [==============================] - 5s 129us/sample - loss: 0.2783 - accuracy: 0.9172 - val_loss: 0.6088 - val_accuracy: 0.8531\n",
      "Epoch 70/100\n",
      "42000/42000 [==============================] - 5s 130us/sample - loss: 0.2749 - accuracy: 0.9168 - val_loss: 0.6197 - val_accuracy: 0.8543\n",
      "Epoch 71/100\n",
      "42000/42000 [==============================] - 6s 133us/sample - loss: 0.2742 - accuracy: 0.9182 - val_loss: 0.6224 - val_accuracy: 0.8510\n",
      "Epoch 72/100\n",
      "42000/42000 [==============================] - 6s 138us/sample - loss: 0.2629 - accuracy: 0.9215 - val_loss: 0.6127 - val_accuracy: 0.8542\n",
      "Epoch 73/100\n",
      "42000/42000 [==============================] - 6s 135us/sample - loss: 0.2637 - accuracy: 0.9230 - val_loss: 0.6224 - val_accuracy: 0.8513\n",
      "Epoch 74/100\n",
      "42000/42000 [==============================] - 6s 133us/sample - loss: 0.2596 - accuracy: 0.9230 - val_loss: 0.6327 - val_accuracy: 0.8500\n",
      "Epoch 75/100\n",
      "42000/42000 [==============================] - 5s 130us/sample - loss: 0.2619 - accuracy: 0.9227 - val_loss: 0.6236 - val_accuracy: 0.8524\n",
      "Epoch 76/100\n",
      "42000/42000 [==============================] - 5s 131us/sample - loss: 0.2476 - accuracy: 0.9263 - val_loss: 0.6291 - val_accuracy: 0.8574\n",
      "Epoch 77/100\n",
      "42000/42000 [==============================] - 5s 129us/sample - loss: 0.2529 - accuracy: 0.9241 - val_loss: 0.6113 - val_accuracy: 0.8568\n",
      "Epoch 78/100\n",
      "42000/42000 [==============================] - 5s 124us/sample - loss: 0.2437 - accuracy: 0.9273 - val_loss: 0.6394 - val_accuracy: 0.8560\n",
      "Epoch 79/100\n",
      "42000/42000 [==============================] - 4s 103us/sample - loss: 0.2457 - accuracy: 0.9268 - val_loss: 0.6217 - val_accuracy: 0.8592\n",
      "Epoch 80/100\n",
      "42000/42000 [==============================] - 5s 108us/sample - loss: 0.2333 - accuracy: 0.9296 - val_loss: 0.6388 - val_accuracy: 0.8576\n",
      "Epoch 81/100\n",
      "42000/42000 [==============================] - 5s 128us/sample - loss: 0.2394 - accuracy: 0.9279 - val_loss: 0.6427 - val_accuracy: 0.8571\n",
      "Epoch 82/100\n",
      "42000/42000 [==============================] - 6s 132us/sample - loss: 0.2395 - accuracy: 0.9282 - val_loss: 0.6456 - val_accuracy: 0.8534\n",
      "Epoch 83/100\n",
      "42000/42000 [==============================] - 5s 129us/sample - loss: 0.2400 - accuracy: 0.9285 - val_loss: 0.6346 - val_accuracy: 0.8549\n",
      "Epoch 84/100\n",
      "42000/42000 [==============================] - 5s 129us/sample - loss: 0.2314 - accuracy: 0.9304 - val_loss: 0.6305 - val_accuracy: 0.8557\n",
      "Epoch 85/100\n",
      "42000/42000 [==============================] - 5s 130us/sample - loss: 0.2325 - accuracy: 0.9303 - val_loss: 0.6653 - val_accuracy: 0.8518\n",
      "Epoch 86/100\n",
      "42000/42000 [==============================] - 5s 130us/sample - loss: 0.2266 - accuracy: 0.9335 - val_loss: 0.6509 - val_accuracy: 0.8573\n",
      "Epoch 87/100\n",
      "42000/42000 [==============================] - 6s 131us/sample - loss: 0.2153 - accuracy: 0.9360 - val_loss: 0.6590 - val_accuracy: 0.8586\n",
      "Epoch 88/100\n",
      "42000/42000 [==============================] - 5s 129us/sample - loss: 0.2222 - accuracy: 0.9332 - val_loss: 0.6624 - val_accuracy: 0.8554\n",
      "Epoch 89/100\n",
      "42000/42000 [==============================] - 5s 129us/sample - loss: 0.2142 - accuracy: 0.9364 - val_loss: 0.6691 - val_accuracy: 0.8546\n",
      "Epoch 90/100\n",
      "42000/42000 [==============================] - 6s 132us/sample - loss: 0.2232 - accuracy: 0.9336 - val_loss: 0.6564 - val_accuracy: 0.8556\n",
      "Epoch 91/100\n",
      "42000/42000 [==============================] - 5s 112us/sample - loss: 0.2113 - accuracy: 0.9379 - val_loss: 0.6730 - val_accuracy: 0.8540\n",
      "Epoch 92/100\n",
      "42000/42000 [==============================] - 4s 103us/sample - loss: 0.2177 - accuracy: 0.9349 - val_loss: 0.6735 - val_accuracy: 0.8518\n",
      "Epoch 93/100\n",
      "42000/42000 [==============================] - 4s 104us/sample - loss: 0.2122 - accuracy: 0.9370 - val_loss: 0.6763 - val_accuracy: 0.8562\n",
      "Epoch 94/100\n",
      "42000/42000 [==============================] - 4s 103us/sample - loss: 0.2157 - accuracy: 0.9360 - val_loss: 0.6768 - val_accuracy: 0.8555\n",
      "Epoch 95/100\n",
      "42000/42000 [==============================] - 6s 131us/sample - loss: 0.2040 - accuracy: 0.9403 - val_loss: 0.6726 - val_accuracy: 0.8556\n",
      "Epoch 96/100\n",
      "42000/42000 [==============================] - 6s 132us/sample - loss: 0.2008 - accuracy: 0.9394 - val_loss: 0.6943 - val_accuracy: 0.8563\n",
      "Epoch 97/100\n",
      "42000/42000 [==============================] - 6s 131us/sample - loss: 0.1963 - accuracy: 0.9416 - val_loss: 0.7038 - val_accuracy: 0.8541\n",
      "Epoch 98/100\n",
      "42000/42000 [==============================] - 5s 131us/sample - loss: 0.1971 - accuracy: 0.9404 - val_loss: 0.6884 - val_accuracy: 0.8541\n",
      "Epoch 99/100\n",
      "42000/42000 [==============================] - 6s 131us/sample - loss: 0.2021 - accuracy: 0.9387 - val_loss: 0.6798 - val_accuracy: 0.8551\n",
      "Epoch 100/100\n",
      "42000/42000 [==============================] - 6s 131us/sample - loss: 0.1944 - accuracy: 0.9419 - val_loss: 0.7283 - val_accuracy: 0.8501\n"
     ]
    },
    {
     "data": {
      "text/plain": [
       "<tensorflow.python.keras.callbacks.History at 0x1f03bab1c08>"
      ]
     },
     "execution_count": 81,
     "metadata": {},
     "output_type": "execute_result"
    }
   ],
   "source": [
    "model5.fit(X_train, y_train1, validation_data=(X_test, y_test1),batch_size=300, epochs=100, verbose=1 )"
   ]
  },
  {
   "cell_type": "markdown",
   "metadata": {},
   "source": [
    "Model gives accuracy of 94 % on training data and 85 % on test data. Gap in minimum one and seems model is slightly overfit."
   ]
  },
  {
   "cell_type": "code",
   "execution_count": 82,
   "metadata": {},
   "outputs": [
    {
     "name": "stdout",
     "output_type": "stream",
     "text": [
      "Accuracy of NN with Adam Optimiser in Batch norm with Drop out on Validation data is  [0.7282719859464301, 0.8500556]\n"
     ]
    }
   ],
   "source": [
    "accuracy4 = model5.evaluate(X_test, y_test1, verbose=0)\n",
    "print(\"Accuracy of NN with Adam Optimiser in Batch norm with Drop out on Validation data is \", accuracy4)"
   ]
  },
  {
   "cell_type": "code",
   "execution_count": 83,
   "metadata": {},
   "outputs": [
    {
     "data": {
      "text/html": [
       "<div>\n",
       "<style scoped>\n",
       "    .dataframe tbody tr th:only-of-type {\n",
       "        vertical-align: middle;\n",
       "    }\n",
       "\n",
       "    .dataframe tbody tr th {\n",
       "        vertical-align: top;\n",
       "    }\n",
       "\n",
       "    .dataframe thead th {\n",
       "        text-align: right;\n",
       "    }\n",
       "</style>\n",
       "<table border=\"1\" class=\"dataframe\">\n",
       "  <thead>\n",
       "    <tr style=\"text-align: right;\">\n",
       "      <th></th>\n",
       "      <th>Method</th>\n",
       "      <th>Accuracy</th>\n",
       "    </tr>\n",
       "  </thead>\n",
       "  <tbody>\n",
       "    <tr>\n",
       "      <th>1</th>\n",
       "      <td>NN with Adam &amp; RELU</td>\n",
       "      <td>0.838889</td>\n",
       "    </tr>\n",
       "    <tr>\n",
       "      <th>2</th>\n",
       "      <td>NN with SGD &amp; RELU</td>\n",
       "      <td>0.113444</td>\n",
       "    </tr>\n",
       "    <tr>\n",
       "      <th>3</th>\n",
       "      <td>NN with adam &amp; sigmoid</td>\n",
       "      <td>0.489222</td>\n",
       "    </tr>\n",
       "    <tr>\n",
       "      <th>4</th>\n",
       "      <td>NN with Adam in Batch Norm(RELU)</td>\n",
       "      <td>0.840278</td>\n",
       "    </tr>\n",
       "    <tr>\n",
       "      <th>5</th>\n",
       "      <td>NN with Adam in Batch Norm &amp; dropout(RELU)</td>\n",
       "      <td>0.850056</td>\n",
       "    </tr>\n",
       "  </tbody>\n",
       "</table>\n",
       "</div>"
      ],
      "text/plain": [
       "                                       Method  Accuracy\n",
       "1                         NN with Adam & RELU  0.838889\n",
       "2                          NN with SGD & RELU  0.113444\n",
       "3                      NN with adam & sigmoid  0.489222\n",
       "4            NN with Adam in Batch Norm(RELU)  0.840278\n",
       "5  NN with Adam in Batch Norm & dropout(RELU)  0.850056"
      ]
     },
     "execution_count": 83,
     "metadata": {},
     "output_type": "execute_result"
    }
   ],
   "source": [
    "# All Accuracy of model need to compile for further analysis and conclusion\n",
    "accuracy_of_val4 = pd.DataFrame({'Method':['NN with Adam in Batch Norm & dropout(RELU)'], 'Accuracy': accuracy4[1]},index={'5'})\n",
    "accuracy_of_val =pd.concat([accuracy_of_val,accuracy_of_val4])\n",
    "accuracy_of_val = accuracy_of_val[['Method', 'Accuracy']]\n",
    "accuracy_of_val"
   ]
  },
  {
   "cell_type": "markdown",
   "metadata": {},
   "source": [
    "- Final results indicates that Sr No 5 NN with Adam in Bath Normalisation & Dropout condition gives highest result over test tuple."
   ]
  },
  {
   "cell_type": "code",
   "execution_count": 84,
   "metadata": {},
   "outputs": [],
   "source": [
    "y_predict=model5.predict(X_test)"
   ]
  },
  {
   "cell_type": "code",
   "execution_count": 85,
   "metadata": {},
   "outputs": [
    {
     "data": {
      "text/plain": [
       "array([2.3445382e-03, 1.2589678e-01, 9.1851978e-03, 3.0123135e-02,\n",
       "       3.5421837e-03, 3.0088222e-03, 8.0236443e-04, 8.2107991e-01,\n",
       "       5.5539003e-04, 3.4617498e-03], dtype=float32)"
      ]
     },
     "execution_count": 85,
     "metadata": {},
     "output_type": "execute_result"
    }
   ],
   "source": [
    "y_predict[1000]"
   ]
  },
  {
   "cell_type": "markdown",
   "metadata": {},
   "source": [
    "Its prediction for 1"
   ]
  },
  {
   "cell_type": "code",
   "execution_count": 86,
   "metadata": {},
   "outputs": [
    {
     "data": {
      "text/plain": [
       "array([0., 1., 0., 0., 0., 0., 0., 0., 0., 0.], dtype=float32)"
      ]
     },
     "execution_count": 86,
     "metadata": {},
     "output_type": "execute_result"
    }
   ],
   "source": [
    "y_test1[1000]"
   ]
  },
  {
   "cell_type": "markdown",
   "metadata": {},
   "source": [
    "Label is also 1"
   ]
  },
  {
   "cell_type": "code",
   "execution_count": 87,
   "metadata": {},
   "outputs": [
    {
     "data": {
      "image/png": "[encoded data removed]",
      "text/plain": [
       "<Figure size 432x288 with 1 Axes>"
      ]
     },
     "metadata": {
      "needs_background": "light"
     },
     "output_type": "display_data"
    }
   ],
   "source": [
    "# Show a random input with respect to output\n",
    "\n",
    "i = 1000\n",
    "plt.imshow(X_test[i,:].reshape(32,32), cmap = 'gray')\n",
    "plt.show()"
   ]
  },
  {
   "cell_type": "markdown",
   "metadata": {},
   "source": [
    "Actual image is also 1"
   ]
  },
  {
   "cell_type": "code",
   "execution_count": 88,
   "metadata": {},
   "outputs": [
    {
     "data": {
      "text/plain": [
       "array([1.9586350e-32, 7.9929051e-26, 1.2492150e-22, 1.0000000e+00,\n",
       "       3.1373043e-30, 3.8209764e-18, 2.5109384e-33, 1.8877749e-30,\n",
       "       1.3334114e-19, 2.6994522e-24], dtype=float32)"
      ]
     },
     "execution_count": 88,
     "metadata": {},
     "output_type": "execute_result"
    }
   ],
   "source": [
    "y_predict[12000]"
   ]
  },
  {
   "cell_type": "markdown",
   "metadata": {},
   "source": [
    "Its prediction for 3"
   ]
  },
  {
   "cell_type": "code",
   "execution_count": 89,
   "metadata": {},
   "outputs": [
    {
     "data": {
      "text/plain": [
       "array([0., 0., 0., 1., 0., 0., 0., 0., 0., 0.], dtype=float32)"
      ]
     },
     "execution_count": 89,
     "metadata": {},
     "output_type": "execute_result"
    }
   ],
   "source": [
    "y_test1[12000]"
   ]
  },
  {
   "cell_type": "markdown",
   "metadata": {},
   "source": [
    "Actual lable is 3"
   ]
  },
  {
   "cell_type": "code",
   "execution_count": 90,
   "metadata": {},
   "outputs": [
    {
     "data": {
      "image/png": "[encoded data removed]",
      "text/plain": [
       "<Figure size 432x288 with 1 Axes>"
      ]
     },
     "metadata": {
      "needs_background": "light"
     },
     "output_type": "display_data"
    }
   ],
   "source": [
    "plt.imshow(X_test[12000].reshape(32,32), cmap = 'gray')\n",
    "plt.show()"
   ]
  },
  {
   "cell_type": "markdown",
   "metadata": {},
   "source": [
    "Actual image is also 3"
   ]
  },
  {
   "cell_type": "code",
   "execution_count": 91,
   "metadata": {},
   "outputs": [],
   "source": [
    "predictions = np.argmax(y_predict, axis=0)\n",
    "labels = np.argmax(y_test1.T, axis=0)"
   ]
  },
  {
   "cell_type": "code",
   "execution_count": 102,
   "metadata": {},
   "outputs": [],
   "source": [
    "#print(confusion_matrix(predictions, labels,normalize='True'))\n",
    "#print(classification_report(predictions, labels))\n",
    "\n",
    "#This code can't get executed properly due to error"
   ]
  },
  {
   "cell_type": "markdown",
   "metadata": {},
   "source": [
    "### Evaluating  of NN and Final Conclusion Note"
   ]
  },
  {
   "cell_type": "markdown",
   "metadata": {},
   "source": [
    "- Performance of NN has been significantly increased over after change in Learning Rate of both optimiser.\n",
    "- Performance of SGD optimiser in not found sigfinacant so not considered for further analysis.\n",
    "- Sigmoid Activation with Adam result is found very less accuracy level.\n",
    "- In this project SVM and KNN classifier has been tried but the code can not executed after 6 to 7 hours and found limitation over personal Machine with 4 GB RAM and i5 processor.\n"
   ]
  },
  {
   "cell_type": "markdown",
   "metadata": {},
   "source": [
    "### Recommendation\n",
    "- NN with Adam optimizer at Lr 0.0001 in Batch Normalisation condition with 2 drop out layer ( first with 0.5 and second 0.3) has seen better performance and accuracy level acheived is 85.5 % on test sets and 94 % on training data."
   ]
  },
  {
   "cell_type": "code",
   "execution_count": null,
   "metadata": {},
   "outputs": [],
   "source": []
  }
 ],
 "metadata": {
  "kernelspec": {
   "display_name": "Python 3",
   "language": "python",
   "name": "python3"
  },
  "language_info": {
   "codemirror_mode": {
    "name": "ipython",
    "version": 3
   },
   "file_extension": ".py",
   "mimetype": "text/x-python",
   "name": "python",
   "nbconvert_exporter": "python",
   "pygments_lexer": "ipython3",
   "version": "3.7.4"
  }
 },
 "nbformat": 4,
 "nbformat_minor": 2
}
